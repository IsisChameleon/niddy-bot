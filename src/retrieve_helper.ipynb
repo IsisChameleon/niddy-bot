{
 "cells": [
  {
   "cell_type": "code",
   "execution_count": 1,
   "metadata": {},
   "outputs": [
    {
     "data": {
      "text/plain": [
       "True"
      ]
     },
     "execution_count": 1,
     "metadata": {},
     "output_type": "execute_result"
    }
   ],
   "source": [
    "from dotenv import load_dotenv\n",
    "\n",
    "# Load environment variables from .env file\n",
    "load_dotenv(override=True)"
   ]
  },
  {
   "cell_type": "code",
   "execution_count": 4,
   "metadata": {},
   "outputs": [
    {
     "name": "stdout",
     "output_type": "stream",
     "text": [
      "file: NDIS Pricing Arrangements for Specialist Disability Accommodation 2023-24  - effective 1 July 2023.pdf\n",
      "file: PB Group-Based Supports Transition Guidance.pdf\n",
      "file: PB NDIS Assistive Technology, Home Modifications and Consumables Code Guide 2023-24 v1.0.docx.pdf\n",
      "file: PB NDIS Bereavement Addendum 2023-24 v1.0.pdf\n",
      "file: PB NDIS COVID Addendum 2023-24 v1.0.pdf\n",
      "file: PB NDIS Disability Support Worker Cost Model Assumptions and Methodology 2023-24 v1.0.docx.pdf\n",
      "file: PB NDIS Home and Living Demonstration Projects Addendum 2023-24 v1.0.docx.pdf\n",
      "file: PB NDIS Pricing Arrangements and Price Limits 2023-24 .pdf\n"
     ]
    }
   ],
   "source": [
    "#------------------------------------------------------------------------------\n",
    "# rebuild index\n",
    "#------------------------------------------------------------------------------\n",
    "\n",
    "from modules.retriever import ChromaRetriever\n",
    "from modules.loaders import MyDirectoryLoader\n",
    "from langchain.text_splitter import RecursiveCharacterTextSplitter\n",
    "\n",
    "COLLECTION_NAME = 'NDIS_ALL_PDFPLUMBER_TEXTS_1024_256'\n",
    "\n",
    "loader = MyDirectoryLoader(dir_path = '../data')\n",
    "splitter = RecursiveCharacterTextSplitter(chunk_size=2048, chunk_overlap=256)\n",
    "search_kwargs = {\n",
    "    \"distance_metric\": \"cos\",\n",
    "    \"fetch_k\": 10, \n",
    "    \"k\": 20,\n",
    "    \"maximal_marginal_relevance\": True\n",
    "}\n",
    "newCollection_kwargs = {\n",
    "    \"loader\": loader,\n",
    "    \"splitter\": splitter\n",
    "}\n",
    "retriever = ChromaRetriever(client_type='httpclient').rebuild(COLLECTION_NAME, search_kwargs, newCollection_kwargs)"
   ]
  },
  {
   "cell_type": "code",
   "execution_count": null,
   "metadata": {},
   "outputs": [],
   "source": []
  }
 ],
 "metadata": {
  "kernelspec": {
   "display_name": ".venv",
   "language": "python",
   "name": "python3"
  },
  "language_info": {
   "codemirror_mode": {
    "name": "ipython",
    "version": 3
   },
   "file_extension": ".py",
   "mimetype": "text/x-python",
   "name": "python",
   "nbconvert_exporter": "python",
   "pygments_lexer": "ipython3",
   "version": "3.11.4"
  },
  "orig_nbformat": 4
 },
 "nbformat": 4,
 "nbformat_minor": 2
}
