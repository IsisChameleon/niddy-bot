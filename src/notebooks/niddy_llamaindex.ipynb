{
 "cells": [
  {
   "cell_type": "markdown",
   "metadata": {},
   "source": [
    "# Exploration using more advanced features of llama_index for Niddy Bot"
   ]
  },
  {
   "cell_type": "code",
   "execution_count": 1,
   "metadata": {},
   "outputs": [],
   "source": [
    "%load_ext autoreload\n",
    "%autoreload 2"
   ]
  },
  {
   "cell_type": "code",
   "execution_count": 2,
   "metadata": {},
   "outputs": [],
   "source": [
    "import logging\n",
    "import sys\n",
    "\n",
    "logging.basicConfig(stream=sys.stdout, level=logging.INFO)\n",
    "logging.getLogger().addHandler(logging.StreamHandler(stream=sys.stdout))"
   ]
  },
  {
   "cell_type": "code",
   "execution_count": 2,
   "metadata": {},
   "outputs": [
    {
     "name": "stdout",
     "output_type": "stream",
     "text": [
      "Collecting llama-hub\n",
      "  Obtaining dependency information for llama-hub from https://files.pythonhosted.org/packages/23/fc/e65334b2176b1a89e01e68aad3e44b45d15d8634bdaefd5a5c0a3dea00a9/llama_hub-0.0.37-py3-none-any.whl.metadata\n",
      "  Downloading llama_hub-0.0.37-py3-none-any.whl.metadata (8.8 kB)\n",
      "Collecting atlassian-python-api (from llama-hub)\n",
      "  Obtaining dependency information for atlassian-python-api from https://files.pythonhosted.org/packages/ca/ed/3577ccec639736c8e4660423be68cf1a4a7040bf543b3144793760792949/atlassian_python_api-3.41.2-py3-none-any.whl.metadata\n",
      "  Downloading atlassian_python_api-3.41.2-py3-none-any.whl.metadata (8.7 kB)\n",
      "Collecting html2text (from llama-hub)\n",
      "  Downloading html2text-2020.1.16-py3-none-any.whl (32 kB)\n",
      "Requirement already satisfied: llama-index>=0.6.9 in /workspaces/niddy-bot/.venv/lib/python3.11/site-packages (from llama-hub) (0.8.36)\n",
      "Requirement already satisfied: psutil in /workspaces/niddy-bot/.venv/lib/python3.11/site-packages (from llama-hub) (5.9.5)\n",
      "Collecting retrying (from llama-hub)\n",
      "  Downloading retrying-1.3.4-py3-none-any.whl (11 kB)\n",
      "Requirement already satisfied: tiktoken in /workspaces/niddy-bot/.venv/lib/python3.11/site-packages (from llama-index>=0.6.9->llama-hub) (0.4.0)\n",
      "Requirement already satisfied: dataclasses-json in /workspaces/niddy-bot/.venv/lib/python3.11/site-packages (from llama-index>=0.6.9->llama-hub) (0.6.1)\n",
      "Requirement already satisfied: langchain>=0.0.293 in /workspaces/niddy-bot/.venv/lib/python3.11/site-packages (from llama-index>=0.6.9->llama-hub) (0.0.309)\n",
      "Requirement already satisfied: sqlalchemy>=2.0.15 in /workspaces/niddy-bot/.venv/lib/python3.11/site-packages (from llama-index>=0.6.9->llama-hub) (2.0.21)\n",
      "Requirement already satisfied: numpy in /workspaces/niddy-bot/.venv/lib/python3.11/site-packages (from llama-index>=0.6.9->llama-hub) (1.25.2)\n",
      "Requirement already satisfied: tenacity<9.0.0,>=8.2.0 in /workspaces/niddy-bot/.venv/lib/python3.11/site-packages (from llama-index>=0.6.9->llama-hub) (8.2.3)\n",
      "Requirement already satisfied: openai>=0.26.4 in /workspaces/niddy-bot/.venv/lib/python3.11/site-packages (from llama-index>=0.6.9->llama-hub) (0.27.10)\n",
      "Requirement already satisfied: pandas in /workspaces/niddy-bot/.venv/lib/python3.11/site-packages (from llama-index>=0.6.9->llama-hub) (2.1.1)\n",
      "Requirement already satisfied: urllib3<2 in /workspaces/niddy-bot/.venv/lib/python3.11/site-packages (from llama-index>=0.6.9->llama-hub) (1.26.17)\n",
      "Requirement already satisfied: fsspec>=2023.5.0 in /workspaces/niddy-bot/.venv/lib/python3.11/site-packages (from llama-index>=0.6.9->llama-hub) (2023.9.2)\n",
      "Requirement already satisfied: typing-inspect>=0.8.0 in /workspaces/niddy-bot/.venv/lib/python3.11/site-packages (from llama-index>=0.6.9->llama-hub) (0.9.0)\n",
      "Requirement already satisfied: typing-extensions>=4.5.0 in /workspaces/niddy-bot/.venv/lib/python3.11/site-packages (from llama-index>=0.6.9->llama-hub) (4.8.0)\n",
      "Requirement already satisfied: beautifulsoup4 in /workspaces/niddy-bot/.venv/lib/python3.11/site-packages (from llama-index>=0.6.9->llama-hub) (4.12.2)\n",
      "Requirement already satisfied: nest-asyncio in /workspaces/niddy-bot/.venv/lib/python3.11/site-packages (from llama-index>=0.6.9->llama-hub) (1.5.8)\n",
      "Requirement already satisfied: nltk in /workspaces/niddy-bot/.venv/lib/python3.11/site-packages (from llama-index>=0.6.9->llama-hub) (3.8.1)\n",
      "Collecting deprecated (from atlassian-python-api->llama-hub)\n",
      "  Obtaining dependency information for deprecated from https://files.pythonhosted.org/packages/20/8d/778b7d51b981a96554f29136cd59ca7880bf58094338085bcf2a979a0e6a/Deprecated-1.2.14-py2.py3-none-any.whl.metadata\n",
      "  Downloading Deprecated-1.2.14-py2.py3-none-any.whl.metadata (5.4 kB)\n",
      "Requirement already satisfied: requests in /workspaces/niddy-bot/.venv/lib/python3.11/site-packages (from atlassian-python-api->llama-hub) (2.31.0)\n",
      "Requirement already satisfied: six in /workspaces/niddy-bot/.venv/lib/python3.11/site-packages (from atlassian-python-api->llama-hub) (1.16.0)\n",
      "Collecting oauthlib (from atlassian-python-api->llama-hub)\n",
      "  Downloading oauthlib-3.2.2-py3-none-any.whl (151 kB)\n",
      "\u001b[2K     \u001b[90m━━━━━━━━━━━━━━━━━━━━━━━━━━━━━━━━━━━━━━━\u001b[0m \u001b[32m151.7/151.7 kB\u001b[0m \u001b[31m6.2 MB/s\u001b[0m eta \u001b[36m0:00:00\u001b[0m\n",
      "\u001b[?25hCollecting requests-oauthlib (from atlassian-python-api->llama-hub)\n",
      "  Downloading requests_oauthlib-1.3.1-py2.py3-none-any.whl (23 kB)\n",
      "Requirement already satisfied: PyYAML>=5.3 in /workspaces/niddy-bot/.venv/lib/python3.11/site-packages (from langchain>=0.0.293->llama-index>=0.6.9->llama-hub) (6.0.1)\n",
      "Requirement already satisfied: aiohttp<4.0.0,>=3.8.3 in /workspaces/niddy-bot/.venv/lib/python3.11/site-packages (from langchain>=0.0.293->llama-index>=0.6.9->llama-hub) (3.8.5)\n",
      "Requirement already satisfied: anyio<4.0 in /workspaces/niddy-bot/.venv/lib/python3.11/site-packages (from langchain>=0.0.293->llama-index>=0.6.9->llama-hub) (3.7.1)\n",
      "Requirement already satisfied: jsonpatch<2.0,>=1.33 in /workspaces/niddy-bot/.venv/lib/python3.11/site-packages (from langchain>=0.0.293->llama-index>=0.6.9->llama-hub) (1.33)\n",
      "Requirement already satisfied: langsmith<0.1.0,>=0.0.40 in /workspaces/niddy-bot/.venv/lib/python3.11/site-packages (from langchain>=0.0.293->llama-index>=0.6.9->llama-hub) (0.0.43)\n",
      "Requirement already satisfied: pydantic<3,>=1 in /workspaces/niddy-bot/.venv/lib/python3.11/site-packages (from langchain>=0.0.293->llama-index>=0.6.9->llama-hub) (1.10.13)\n",
      "Requirement already satisfied: marshmallow<4.0.0,>=3.18.0 in /workspaces/niddy-bot/.venv/lib/python3.11/site-packages (from dataclasses-json->llama-index>=0.6.9->llama-hub) (3.20.1)\n",
      "Requirement already satisfied: tqdm in /workspaces/niddy-bot/.venv/lib/python3.11/site-packages (from openai>=0.26.4->llama-index>=0.6.9->llama-hub) (4.66.1)\n",
      "Requirement already satisfied: charset-normalizer<4,>=2 in /workspaces/niddy-bot/.venv/lib/python3.11/site-packages (from requests->atlassian-python-api->llama-hub) (3.3.0)\n",
      "Requirement already satisfied: idna<4,>=2.5 in /workspaces/niddy-bot/.venv/lib/python3.11/site-packages (from requests->atlassian-python-api->llama-hub) (3.4)\n",
      "Requirement already satisfied: certifi>=2017.4.17 in /workspaces/niddy-bot/.venv/lib/python3.11/site-packages (from requests->atlassian-python-api->llama-hub) (2023.7.22)\n",
      "Requirement already satisfied: greenlet!=0.4.17 in /workspaces/niddy-bot/.venv/lib/python3.11/site-packages (from sqlalchemy>=2.0.15->llama-index>=0.6.9->llama-hub) (3.0.0)\n",
      "Requirement already satisfied: mypy-extensions>=0.3.0 in /workspaces/niddy-bot/.venv/lib/python3.11/site-packages (from typing-inspect>=0.8.0->llama-index>=0.6.9->llama-hub) (1.0.0)\n",
      "Requirement already satisfied: soupsieve>1.2 in /workspaces/niddy-bot/.venv/lib/python3.11/site-packages (from beautifulsoup4->llama-index>=0.6.9->llama-hub) (2.5)\n",
      "Collecting wrapt<2,>=1.10 (from deprecated->atlassian-python-api->llama-hub)\n",
      "  Downloading wrapt-1.15.0-cp311-cp311-manylinux_2_5_x86_64.manylinux1_x86_64.manylinux_2_17_x86_64.manylinux2014_x86_64.whl (78 kB)\n",
      "\u001b[2K     \u001b[90m━━━━━━━━━━━━━━━━━━━━━━━━━━━━━━━━━━━━━━━━\u001b[0m \u001b[32m78.9/78.9 kB\u001b[0m \u001b[31m20.4 MB/s\u001b[0m eta \u001b[36m0:00:00\u001b[0m\n",
      "\u001b[?25hRequirement already satisfied: click in /workspaces/niddy-bot/.venv/lib/python3.11/site-packages (from nltk->llama-index>=0.6.9->llama-hub) (8.1.7)\n",
      "Requirement already satisfied: joblib in /workspaces/niddy-bot/.venv/lib/python3.11/site-packages (from nltk->llama-index>=0.6.9->llama-hub) (1.3.2)\n",
      "Requirement already satisfied: regex>=2021.8.3 in /workspaces/niddy-bot/.venv/lib/python3.11/site-packages (from nltk->llama-index>=0.6.9->llama-hub) (2023.10.3)\n",
      "Requirement already satisfied: python-dateutil>=2.8.2 in /workspaces/niddy-bot/.venv/lib/python3.11/site-packages (from pandas->llama-index>=0.6.9->llama-hub) (2.8.2)\n",
      "Requirement already satisfied: pytz>=2020.1 in /workspaces/niddy-bot/.venv/lib/python3.11/site-packages (from pandas->llama-index>=0.6.9->llama-hub) (2023.3.post1)\n",
      "Requirement already satisfied: tzdata>=2022.1 in /workspaces/niddy-bot/.venv/lib/python3.11/site-packages (from pandas->llama-index>=0.6.9->llama-hub) (2023.3)\n",
      "Requirement already satisfied: attrs>=17.3.0 in /workspaces/niddy-bot/.venv/lib/python3.11/site-packages (from aiohttp<4.0.0,>=3.8.3->langchain>=0.0.293->llama-index>=0.6.9->llama-hub) (23.1.0)\n",
      "Requirement already satisfied: multidict<7.0,>=4.5 in /workspaces/niddy-bot/.venv/lib/python3.11/site-packages (from aiohttp<4.0.0,>=3.8.3->langchain>=0.0.293->llama-index>=0.6.9->llama-hub) (6.0.4)\n",
      "Requirement already satisfied: async-timeout<5.0,>=4.0.0a3 in /workspaces/niddy-bot/.venv/lib/python3.11/site-packages (from aiohttp<4.0.0,>=3.8.3->langchain>=0.0.293->llama-index>=0.6.9->llama-hub) (4.0.3)\n",
      "Requirement already satisfied: yarl<2.0,>=1.0 in /workspaces/niddy-bot/.venv/lib/python3.11/site-packages (from aiohttp<4.0.0,>=3.8.3->langchain>=0.0.293->llama-index>=0.6.9->llama-hub) (1.9.2)\n",
      "Requirement already satisfied: frozenlist>=1.1.1 in /workspaces/niddy-bot/.venv/lib/python3.11/site-packages (from aiohttp<4.0.0,>=3.8.3->langchain>=0.0.293->llama-index>=0.6.9->llama-hub) (1.4.0)\n",
      "Requirement already satisfied: aiosignal>=1.1.2 in /workspaces/niddy-bot/.venv/lib/python3.11/site-packages (from aiohttp<4.0.0,>=3.8.3->langchain>=0.0.293->llama-index>=0.6.9->llama-hub) (1.3.1)\n",
      "Requirement already satisfied: sniffio>=1.1 in /workspaces/niddy-bot/.venv/lib/python3.11/site-packages (from anyio<4.0->langchain>=0.0.293->llama-index>=0.6.9->llama-hub) (1.3.0)\n",
      "Requirement already satisfied: jsonpointer>=1.9 in /workspaces/niddy-bot/.venv/lib/python3.11/site-packages (from jsonpatch<2.0,>=1.33->langchain>=0.0.293->llama-index>=0.6.9->llama-hub) (2.4)\n",
      "Requirement already satisfied: packaging>=17.0 in /workspaces/niddy-bot/.venv/lib/python3.11/site-packages (from marshmallow<4.0.0,>=3.18.0->dataclasses-json->llama-index>=0.6.9->llama-hub) (23.2)\n",
      "Downloading llama_hub-0.0.37-py3-none-any.whl (12.0 MB)\n",
      "\u001b[2K   \u001b[90m━━━━━━━━━━━━━━━━━━━━━━━━━━━━━━━━━━━━━━━━\u001b[0m \u001b[32m12.0/12.0 MB\u001b[0m \u001b[31m7.4 MB/s\u001b[0m eta \u001b[36m0:00:00\u001b[0m00:01\u001b[0m00:01\u001b[0m\n",
      "\u001b[?25hDownloading atlassian_python_api-3.41.2-py3-none-any.whl (167 kB)\n",
      "\u001b[2K   \u001b[90m━━━━━━━━━━━━━━━━━━━━━━━━━━━━━━━━━━━━━━━━\u001b[0m \u001b[32m167.2/167.2 kB\u001b[0m \u001b[31m12.3 MB/s\u001b[0m eta \u001b[36m0:00:00\u001b[0m\n",
      "\u001b[?25hDownloading Deprecated-1.2.14-py2.py3-none-any.whl (9.6 kB)\n",
      "Installing collected packages: wrapt, retrying, oauthlib, html2text, requests-oauthlib, deprecated, atlassian-python-api, llama-hub\n",
      "Successfully installed atlassian-python-api-3.41.2 deprecated-1.2.14 html2text-2020.1.16 llama-hub-0.0.37 oauthlib-3.2.2 requests-oauthlib-1.3.1 retrying-1.3.4 wrapt-1.15.0\n"
     ]
    }
   ],
   "source": [
    "!pip install llama-hub camelot"
   ]
  },
  {
   "cell_type": "markdown",
   "metadata": {},
   "source": [
    "## 1. Load the text and tables from the PDFs correctly\n",
    "\n",
    "https://docs.llamaindex.ai/en/stable/examples/query_engine/pdf_tables/recursive_retriever.html#load-in-document-and-tables\n",
    "\n"
   ]
  },
  {
   "cell_type": "code",
   "execution_count": 5,
   "metadata": {},
   "outputs": [
    {
     "ename": "ModuleNotFoundError",
     "evalue": "No module named 'compat'",
     "output_type": "error",
     "traceback": [
      "\u001b[0;31m---------------------------------------------------------------------------\u001b[0m",
      "\u001b[0;31mModuleNotFoundError\u001b[0m                       Traceback (most recent call last)",
      "\u001b[1;32m/workspaces/niddy-bot/src/notebooks/niddy_llamaindex.ipynb Cell 6\u001b[0m line \u001b[0;36m2\n\u001b[1;32m      <a href='vscode-notebook-cell://dev-container%2B7b22686f737450617468223a22643a5c5c7372635c5c6e696464792d626f74222c22636f6e66696746696c65223a7b22246d6964223a312c22667350617468223a22643a5c5c7372635c5c6e696464792d626f745c5c2e646576636f6e7461696e65725c5c646576636f6e7461696e65722e6a736f6e222c225f736570223a312c2265787465726e616c223a2266696c653a2f2f2f642533412f7372632f6e696464792d626f742f2e646576636f6e7461696e65722f646576636f6e7461696e65722e6a736f6e222c2270617468223a222f643a2f7372632f6e696464792d626f742f2e646576636f6e7461696e65722f646576636f6e7461696e65722e6a736f6e222c22736368656d65223a2266696c65227d7d/workspaces/niddy-bot/src/notebooks/niddy_llamaindex.ipynb#W4sdnNjb2RlLXJlbW90ZQ%3D%3D?line=0'>1</a>\u001b[0m \u001b[39mimport\u001b[39;00m \u001b[39mcamelot\u001b[39;00m\n\u001b[0;32m----> <a href='vscode-notebook-cell://dev-container%2B7b22686f737450617468223a22643a5c5c7372635c5c6e696464792d626f74222c22636f6e66696746696c65223a7b22246d6964223a312c22667350617468223a22643a5c5c7372635c5c6e696464792d626f745c5c2e646576636f6e7461696e65725c5c646576636f6e7461696e65722e6a736f6e222c225f736570223a312c2265787465726e616c223a2266696c653a2f2f2f642533412f7372632f6e696464792d626f742f2e646576636f6e7461696e65722f646576636f6e7461696e65722e6a736f6e222c2270617468223a222f643a2f7372632f6e696464792d626f742f2e646576636f6e7461696e65722f646576636f6e7461696e65722e6a736f6e222c22736368656d65223a2266696c65227d7d/workspaces/niddy-bot/src/notebooks/niddy_llamaindex.ipynb#W4sdnNjb2RlLXJlbW90ZQ%3D%3D?line=1'>2</a>\u001b[0m \u001b[39mfrom\u001b[39;00m \u001b[39mllama_index\u001b[39;00m \u001b[39mimport\u001b[39;00m Document, SummaryIndex\n\u001b[1;32m      <a href='vscode-notebook-cell://dev-container%2B7b22686f737450617468223a22643a5c5c7372635c5c6e696464792d626f74222c22636f6e66696746696c65223a7b22246d6964223a312c22667350617468223a22643a5c5c7372635c5c6e696464792d626f745c5c2e646576636f6e7461696e65725c5c646576636f6e7461696e65722e6a736f6e222c225f736570223a312c2265787465726e616c223a2266696c653a2f2f2f642533412f7372632f6e696464792d626f742f2e646576636f6e7461696e65722f646576636f6e7461696e65722e6a736f6e222c2270617468223a222f643a2f7372632f6e696464792d626f742f2e646576636f6e7461696e65722f646576636f6e7461696e65722e6a736f6e222c22736368656d65223a2266696c65227d7d/workspaces/niddy-bot/src/notebooks/niddy_llamaindex.ipynb#W4sdnNjb2RlLXJlbW90ZQ%3D%3D?line=3'>4</a>\u001b[0m \u001b[39mfrom\u001b[39;00m \u001b[39mllama_index\u001b[39;00m \u001b[39mimport\u001b[39;00m VectorStoreIndex, ServiceContext, LLMPredictor\n\u001b[1;32m      <a href='vscode-notebook-cell://dev-container%2B7b22686f737450617468223a22643a5c5c7372635c5c6e696464792d626f74222c22636f6e66696746696c65223a7b22246d6964223a312c22667350617468223a22643a5c5c7372635c5c6e696464792d626f745c5c2e646576636f6e7461696e65725c5c646576636f6e7461696e65722e6a736f6e222c225f736570223a312c2265787465726e616c223a2266696c653a2f2f2f642533412f7372632f6e696464792d626f742f2e646576636f6e7461696e65722f646576636f6e7461696e65722e6a736f6e222c2270617468223a222f643a2f7372632f6e696464792d626f742f2e646576636f6e7461696e65722f646576636f6e7461696e65722e6a736f6e222c22736368656d65223a2266696c65227d7d/workspaces/niddy-bot/src/notebooks/niddy_llamaindex.ipynb#W4sdnNjb2RlLXJlbW90ZQ%3D%3D?line=4'>5</a>\u001b[0m \u001b[39mfrom\u001b[39;00m \u001b[39mllama_index\u001b[39;00m\u001b[39m.\u001b[39;00m\u001b[39mquery_engine\u001b[39;00m \u001b[39mimport\u001b[39;00m PandasQueryEngine, RetrieverQueryEngine\n",
      "File \u001b[0;32m/workspaces/niddy-bot/.venv/lib/python3.11/site-packages/llama_index/__init__.py:12\u001b[0m\n\u001b[1;32m      9\u001b[0m \u001b[39mfrom\u001b[39;00m \u001b[39mlogging\u001b[39;00m \u001b[39mimport\u001b[39;00m NullHandler\n\u001b[1;32m     10\u001b[0m \u001b[39mfrom\u001b[39;00m \u001b[39mtyping\u001b[39;00m \u001b[39mimport\u001b[39;00m Optional\n\u001b[0;32m---> 12\u001b[0m \u001b[39mfrom\u001b[39;00m \u001b[39mllama_index\u001b[39;00m\u001b[39m.\u001b[39;00m\u001b[39mdata_structs\u001b[39;00m\u001b[39m.\u001b[39;00m\u001b[39mstruct_type\u001b[39;00m \u001b[39mimport\u001b[39;00m IndexStructType\n\u001b[1;32m     14\u001b[0m \u001b[39m# embeddings\u001b[39;00m\n\u001b[1;32m     15\u001b[0m \u001b[39mfrom\u001b[39;00m \u001b[39mllama_index\u001b[39;00m\u001b[39m.\u001b[39;00m\u001b[39membeddings\u001b[39;00m\u001b[39m.\u001b[39;00m\u001b[39mlangchain\u001b[39;00m \u001b[39mimport\u001b[39;00m LangchainEmbedding\n",
      "File \u001b[0;32m/workspaces/niddy-bot/.venv/lib/python3.11/site-packages/llama_index/data_structs/__init__.py:3\u001b[0m\n\u001b[1;32m      1\u001b[0m \u001b[39m\"\"\"Init file.\"\"\"\u001b[39;00m\n\u001b[0;32m----> 3\u001b[0m \u001b[39mfrom\u001b[39;00m \u001b[39mllama_index\u001b[39;00m\u001b[39m.\u001b[39;00m\u001b[39mdata_structs\u001b[39;00m\u001b[39m.\u001b[39;00m\u001b[39mdata_structs\u001b[39;00m \u001b[39mimport\u001b[39;00m (\n\u001b[1;32m      4\u001b[0m     IndexDict,\n\u001b[1;32m      5\u001b[0m     IndexGraph,\n\u001b[1;32m      6\u001b[0m     IndexList,\n\u001b[1;32m      7\u001b[0m     KeywordTable,\n\u001b[1;32m      8\u001b[0m     Node,\n\u001b[1;32m      9\u001b[0m )\n\u001b[1;32m     11\u001b[0m \u001b[39mfrom\u001b[39;00m \u001b[39mllama_index\u001b[39;00m\u001b[39m.\u001b[39;00m\u001b[39mdata_structs\u001b[39;00m\u001b[39m.\u001b[39;00m\u001b[39mtable\u001b[39;00m \u001b[39mimport\u001b[39;00m StructDatapoint\n\u001b[1;32m     13\u001b[0m __all__ \u001b[39m=\u001b[39m [\n\u001b[1;32m     14\u001b[0m     \u001b[39m\"\u001b[39m\u001b[39mIndexGraph\u001b[39m\u001b[39m\"\u001b[39m,\n\u001b[1;32m     15\u001b[0m     \u001b[39m\"\u001b[39m\u001b[39mKeywordTable\u001b[39m\u001b[39m\"\u001b[39m,\n\u001b[0;32m   (...)\u001b[0m\n\u001b[1;32m     19\u001b[0m     \u001b[39m\"\u001b[39m\u001b[39mNode\u001b[39m\u001b[39m\"\u001b[39m,\n\u001b[1;32m     20\u001b[0m ]\n",
      "File \u001b[0;32m/workspaces/niddy-bot/.venv/lib/python3.11/site-packages/llama_index/data_structs/data_structs.py:14\u001b[0m\n\u001b[1;32m     10\u001b[0m \u001b[39mfrom\u001b[39;00m \u001b[39mtyping\u001b[39;00m \u001b[39mimport\u001b[39;00m Dict, List, Optional, Sequence, Set\n\u001b[1;32m     12\u001b[0m \u001b[39mfrom\u001b[39;00m \u001b[39mdataclasses_json\u001b[39;00m \u001b[39mimport\u001b[39;00m DataClassJsonMixin\n\u001b[0;32m---> 14\u001b[0m \u001b[39mfrom\u001b[39;00m \u001b[39mllama_index\u001b[39;00m\u001b[39m.\u001b[39;00m\u001b[39mschema\u001b[39;00m \u001b[39mimport\u001b[39;00m BaseNode, TextNode\n\u001b[1;32m     15\u001b[0m \u001b[39mfrom\u001b[39;00m \u001b[39mllama_index\u001b[39;00m\u001b[39m.\u001b[39;00m\u001b[39mdata_structs\u001b[39;00m\u001b[39m.\u001b[39;00m\u001b[39mstruct_type\u001b[39;00m \u001b[39mimport\u001b[39;00m IndexStructType\n\u001b[1;32m     18\u001b[0m \u001b[39m# TODO: legacy backport of old Node class\u001b[39;00m\n",
      "File \u001b[0;32m/workspaces/niddy-bot/.venv/lib/python3.11/site-packages/llama_index/schema.py:12\u001b[0m\n\u001b[1;32m      9\u001b[0m \u001b[39mfrom\u001b[39;00m \u001b[39mtyping_extensions\u001b[39;00m \u001b[39mimport\u001b[39;00m Self\n\u001b[1;32m     11\u001b[0m \u001b[39mfrom\u001b[39;00m \u001b[39mllama_index\u001b[39;00m\u001b[39m.\u001b[39;00m\u001b[39mbridge\u001b[39;00m\u001b[39m.\u001b[39;00m\u001b[39mpydantic\u001b[39;00m \u001b[39mimport\u001b[39;00m BaseModel, Field, root_validator\n\u001b[0;32m---> 12\u001b[0m \u001b[39mfrom\u001b[39;00m \u001b[39mllama_index\u001b[39;00m\u001b[39m.\u001b[39;00m\u001b[39mbridge\u001b[39;00m\u001b[39m.\u001b[39;00m\u001b[39mlangchain\u001b[39;00m \u001b[39mimport\u001b[39;00m Document \u001b[39mas\u001b[39;00m LCDocument\n\u001b[1;32m     13\u001b[0m \u001b[39mfrom\u001b[39;00m \u001b[39mllama_index\u001b[39;00m\u001b[39m.\u001b[39;00m\u001b[39mutils\u001b[39;00m \u001b[39mimport\u001b[39;00m SAMPLE_TEXT, truncate_text\n\u001b[1;32m     15\u001b[0m DEFAULT_TEXT_NODE_TMPL \u001b[39m=\u001b[39m \u001b[39m\"\u001b[39m\u001b[39m{metadata_str}\u001b[39;00m\u001b[39m\\n\u001b[39;00m\u001b[39m\\n\u001b[39;00m\u001b[39m{content}\u001b[39;00m\u001b[39m\"\u001b[39m\n",
      "File \u001b[0;32m/workspaces/niddy-bot/.venv/lib/python3.11/site-packages/llama_index/bridge/langchain.py:1\u001b[0m\n\u001b[0;32m----> 1\u001b[0m \u001b[39mimport\u001b[39;00m \u001b[39mlangchain\u001b[39;00m\n\u001b[1;32m      3\u001b[0m \u001b[39m# prompts\u001b[39;00m\n\u001b[1;32m      4\u001b[0m \u001b[39mfrom\u001b[39;00m \u001b[39mlangchain\u001b[39;00m \u001b[39mimport\u001b[39;00m BasePromptTemplate, PromptTemplate\n",
      "File \u001b[0;32m/workspaces/niddy-bot/.venv/lib/python3.11/site-packages/langchain/__init__.py:9\u001b[0m\n\u001b[1;32m      6\u001b[0m     __version__ \u001b[39m=\u001b[39m _f\u001b[39m.\u001b[39mread()\u001b[39m.\u001b[39mstrip()\n\u001b[1;32m      8\u001b[0m \u001b[39mfrom\u001b[39;00m \u001b[39mlangchain\u001b[39;00m\u001b[39m.\u001b[39;00m\u001b[39magents\u001b[39;00m \u001b[39mimport\u001b[39;00m MRKLChain, ReActChain, SelfAskWithSearchChain\n\u001b[0;32m----> 9\u001b[0m \u001b[39mfrom\u001b[39;00m \u001b[39mlangchain\u001b[39;00m\u001b[39m.\u001b[39;00m\u001b[39mchains\u001b[39;00m \u001b[39mimport\u001b[39;00m (\n\u001b[1;32m     10\u001b[0m     ConversationChain,\n\u001b[1;32m     11\u001b[0m     LLMChain,\n\u001b[1;32m     12\u001b[0m     LLMMathChain,\n\u001b[1;32m     13\u001b[0m     PALChain,\n\u001b[1;32m     14\u001b[0m     PythonChain,\n\u001b[1;32m     15\u001b[0m     QAWithSourcesChain,\n\u001b[1;32m     16\u001b[0m     SQLDatabaseChain,\n\u001b[1;32m     17\u001b[0m     VectorDBQA,\n\u001b[1;32m     18\u001b[0m     VectorDBQAWithSourcesChain,\n\u001b[1;32m     19\u001b[0m )\n\u001b[1;32m     20\u001b[0m \u001b[39mfrom\u001b[39;00m \u001b[39mlangchain\u001b[39;00m\u001b[39m.\u001b[39;00m\u001b[39mdocstore\u001b[39;00m \u001b[39mimport\u001b[39;00m InMemoryDocstore, Wikipedia\n\u001b[1;32m     21\u001b[0m \u001b[39mfrom\u001b[39;00m \u001b[39mlangchain\u001b[39;00m\u001b[39m.\u001b[39;00m\u001b[39mllms\u001b[39;00m \u001b[39mimport\u001b[39;00m Cohere, HuggingFaceHub, OpenAI\n",
      "File \u001b[0;32m/workspaces/niddy-bot/.venv/lib/python3.11/site-packages/langchain/chains/__init__.py:10\u001b[0m\n\u001b[1;32m      8\u001b[0m \u001b[39mfrom\u001b[39;00m \u001b[39mlangchain\u001b[39;00m\u001b[39m.\u001b[39;00m\u001b[39mchains\u001b[39;00m\u001b[39m.\u001b[39;00m\u001b[39mqa_with_sources\u001b[39;00m\u001b[39m.\u001b[39;00m\u001b[39mvector_db\u001b[39;00m \u001b[39mimport\u001b[39;00m VectorDBQAWithSourcesChain\n\u001b[1;32m      9\u001b[0m \u001b[39mfrom\u001b[39;00m \u001b[39mlangchain\u001b[39;00m\u001b[39m.\u001b[39;00m\u001b[39mchains\u001b[39;00m\u001b[39m.\u001b[39;00m\u001b[39msequential\u001b[39;00m \u001b[39mimport\u001b[39;00m SequentialChain, SimpleSequentialChain\n\u001b[0;32m---> 10\u001b[0m \u001b[39mfrom\u001b[39;00m \u001b[39mlangchain\u001b[39;00m\u001b[39m.\u001b[39;00m\u001b[39mchains\u001b[39;00m\u001b[39m.\u001b[39;00m\u001b[39msql_database\u001b[39;00m\u001b[39m.\u001b[39;00m\u001b[39mbase\u001b[39;00m \u001b[39mimport\u001b[39;00m SQLDatabaseChain\n\u001b[1;32m     11\u001b[0m \u001b[39mfrom\u001b[39;00m \u001b[39mlangchain\u001b[39;00m\u001b[39m.\u001b[39;00m\u001b[39mchains\u001b[39;00m\u001b[39m.\u001b[39;00m\u001b[39mvector_db_qa\u001b[39;00m\u001b[39m.\u001b[39;00m\u001b[39mbase\u001b[39;00m \u001b[39mimport\u001b[39;00m VectorDBQA\n\u001b[1;32m     13\u001b[0m __all__ \u001b[39m=\u001b[39m [\n\u001b[1;32m     14\u001b[0m     \u001b[39m\"\u001b[39m\u001b[39mLLMChain\u001b[39m\u001b[39m\"\u001b[39m,\n\u001b[1;32m     15\u001b[0m     \u001b[39m\"\u001b[39m\u001b[39mLLMMathChain\u001b[39m\u001b[39m\"\u001b[39m,\n\u001b[0;32m   (...)\u001b[0m\n\u001b[1;32m     24\u001b[0m     \u001b[39m\"\u001b[39m\u001b[39mPALChain\u001b[39m\u001b[39m\"\u001b[39m,\n\u001b[1;32m     25\u001b[0m ]\n",
      "File \u001b[0;32m/workspaces/niddy-bot/.venv/lib/python3.11/site-packages/langchain/chains/sql_database/base.py:11\u001b[0m\n\u001b[1;32m      9\u001b[0m \u001b[39mfrom\u001b[39;00m \u001b[39mlangchain\u001b[39;00m\u001b[39m.\u001b[39;00m\u001b[39minput\u001b[39;00m \u001b[39mimport\u001b[39;00m ChainedInput\n\u001b[1;32m     10\u001b[0m \u001b[39mfrom\u001b[39;00m \u001b[39mlangchain\u001b[39;00m\u001b[39m.\u001b[39;00m\u001b[39mllms\u001b[39;00m\u001b[39m.\u001b[39;00m\u001b[39mbase\u001b[39;00m \u001b[39mimport\u001b[39;00m LLM\n\u001b[0;32m---> 11\u001b[0m \u001b[39mfrom\u001b[39;00m \u001b[39mlangchain\u001b[39;00m\u001b[39m.\u001b[39;00m\u001b[39msql_database\u001b[39;00m \u001b[39mimport\u001b[39;00m SQLDatabase\n\u001b[1;32m     14\u001b[0m \u001b[39mclass\u001b[39;00m \u001b[39mSQLDatabaseChain\u001b[39;00m(Chain, BaseModel):\n\u001b[1;32m     15\u001b[0m \u001b[39m    \u001b[39m\u001b[39m\"\"\"Chain for interacting with SQL Database.\u001b[39;00m\n\u001b[1;32m     16\u001b[0m \n\u001b[1;32m     17\u001b[0m \u001b[39m    Example:\u001b[39;00m\n\u001b[0;32m   (...)\u001b[0m\n\u001b[1;32m     22\u001b[0m \u001b[39m            db_chain = SelfAskWithSearchChain(llm=OpenAI(), database=db)\u001b[39;00m\n\u001b[1;32m     23\u001b[0m \u001b[39m    \"\"\"\u001b[39;00m\n",
      "File \u001b[0;32m/workspaces/niddy-bot/.venv/lib/python3.11/site-packages/langchain/sql_database.py:6\u001b[0m\n\u001b[1;32m      2\u001b[0m \u001b[39mfrom\u001b[39;00m \u001b[39m__future__\u001b[39;00m \u001b[39mimport\u001b[39;00m annotations\n\u001b[1;32m      4\u001b[0m \u001b[39mfrom\u001b[39;00m \u001b[39mtyping\u001b[39;00m \u001b[39mimport\u001b[39;00m Any, Iterable, List, Optional\n\u001b[0;32m----> 6\u001b[0m \u001b[39mfrom\u001b[39;00m \u001b[39msqlalchemy\u001b[39;00m \u001b[39mimport\u001b[39;00m create_engine, inspect\n\u001b[1;32m      7\u001b[0m \u001b[39mfrom\u001b[39;00m \u001b[39msqlalchemy\u001b[39;00m\u001b[39m.\u001b[39;00m\u001b[39mengine\u001b[39;00m \u001b[39mimport\u001b[39;00m Engine\n\u001b[1;32m     10\u001b[0m \u001b[39mclass\u001b[39;00m \u001b[39mSQLDatabase\u001b[39;00m:\n",
      "File \u001b[0;32m/workspaces/niddy-bot/.venv/lib/python3.11/site-packages/sqlalchemy/__init__.py:12\u001b[0m\n\u001b[1;32m      8\u001b[0m \u001b[39mimport\u001b[39;00m \u001b[39msys\u001b[39;00m\n\u001b[1;32m     10\u001b[0m \u001b[39mimport\u001b[39;00m \u001b[39msqlalchemy\u001b[39;00m\u001b[39m.\u001b[39;00m\u001b[39mexc\u001b[39;00m \u001b[39mas\u001b[39;00m \u001b[39mexceptions\u001b[39;00m\n\u001b[0;32m---> 12\u001b[0m \u001b[39mfrom\u001b[39;00m \u001b[39msqlalchemy\u001b[39;00m\u001b[39m.\u001b[39;00m\u001b[39msql\u001b[39;00m \u001b[39mimport\u001b[39;00m (\n\u001b[1;32m     13\u001b[0m     alias,\n\u001b[1;32m     14\u001b[0m     and_,\n\u001b[1;32m     15\u001b[0m     asc,\n\u001b[1;32m     16\u001b[0m     between,\n\u001b[1;32m     17\u001b[0m     bindparam,\n\u001b[1;32m     18\u001b[0m     case,\n\u001b[1;32m     19\u001b[0m     cast,\n\u001b[1;32m     20\u001b[0m     collate,\n\u001b[1;32m     21\u001b[0m     delete,\n\u001b[1;32m     22\u001b[0m     desc,\n\u001b[1;32m     23\u001b[0m     distinct,\n\u001b[1;32m     24\u001b[0m     except_,\n\u001b[1;32m     25\u001b[0m     except_all,\n\u001b[1;32m     26\u001b[0m     exists,\n\u001b[1;32m     27\u001b[0m     extract,\n\u001b[1;32m     28\u001b[0m     func,\n\u001b[1;32m     29\u001b[0m     insert,\n\u001b[1;32m     30\u001b[0m     intersect,\n\u001b[1;32m     31\u001b[0m     intersect_all,\n\u001b[1;32m     32\u001b[0m     join,\n\u001b[1;32m     33\u001b[0m     literal,\n\u001b[1;32m     34\u001b[0m     literal_column,\n\u001b[1;32m     35\u001b[0m     modifier,\n\u001b[1;32m     36\u001b[0m     not_,\n\u001b[1;32m     37\u001b[0m     null,\n\u001b[1;32m     38\u001b[0m     or_,\n\u001b[1;32m     39\u001b[0m     outerjoin,\n\u001b[1;32m     40\u001b[0m     outparam,\n\u001b[1;32m     41\u001b[0m     over,\n\u001b[1;32m     42\u001b[0m     select,\n\u001b[1;32m     43\u001b[0m     subquery,\n\u001b[1;32m     44\u001b[0m     text,\n\u001b[1;32m     45\u001b[0m     tuple_,\n\u001b[1;32m     46\u001b[0m     type_coerce,\n\u001b[1;32m     47\u001b[0m     union,\n\u001b[1;32m     48\u001b[0m     union_all,\n\u001b[1;32m     49\u001b[0m     update,\n\u001b[1;32m     50\u001b[0m     )\n\u001b[1;32m     52\u001b[0m \u001b[39mfrom\u001b[39;00m \u001b[39msqlalchemy\u001b[39;00m\u001b[39m.\u001b[39;00m\u001b[39mtypes\u001b[39;00m \u001b[39mimport\u001b[39;00m (\n\u001b[1;32m     53\u001b[0m     BIGINT,\n\u001b[1;32m     54\u001b[0m     BINARY,\n\u001b[0;32m   (...)\u001b[0m\n\u001b[1;32m     93\u001b[0m     VARCHAR,\n\u001b[1;32m     94\u001b[0m     )\n\u001b[1;32m     97\u001b[0m \u001b[39mfrom\u001b[39;00m \u001b[39msqlalchemy\u001b[39;00m\u001b[39m.\u001b[39;00m\u001b[39mschema\u001b[39;00m \u001b[39mimport\u001b[39;00m (\n\u001b[1;32m     98\u001b[0m     CheckConstraint,\n\u001b[1;32m     99\u001b[0m     Column,\n\u001b[0;32m   (...)\u001b[0m\n\u001b[1;32m    114\u001b[0m     UniqueConstraint,\n\u001b[1;32m    115\u001b[0m     )\n",
      "File \u001b[0;32m/workspaces/niddy-bot/.venv/lib/python3.11/site-packages/sqlalchemy/sql/__init__.py:7\u001b[0m\n\u001b[1;32m      1\u001b[0m \u001b[39m# sql/__init__.py\u001b[39;00m\n\u001b[1;32m      2\u001b[0m \u001b[39m# Copyright (C) 2005-2013 the SQLAlchemy authors and contributors <see AUTHORS file>\u001b[39;00m\n\u001b[1;32m      3\u001b[0m \u001b[39m#\u001b[39;00m\n\u001b[1;32m      4\u001b[0m \u001b[39m# This module is part of SQLAlchemy and is released under\u001b[39;00m\n\u001b[1;32m      5\u001b[0m \u001b[39m# the MIT License: http://www.opensource.org/licenses/mit-license.php\u001b[39;00m\n\u001b[0;32m----> 7\u001b[0m \u001b[39mfrom\u001b[39;00m \u001b[39msqlalchemy\u001b[39;00m\u001b[39m.\u001b[39;00m\u001b[39msql\u001b[39;00m\u001b[39m.\u001b[39;00m\u001b[39mexpression\u001b[39;00m \u001b[39mimport\u001b[39;00m (\n\u001b[1;32m      8\u001b[0m     Alias,\n\u001b[1;32m      9\u001b[0m     ClauseElement,\n\u001b[1;32m     10\u001b[0m     ColumnCollection,\n\u001b[1;32m     11\u001b[0m     ColumnElement,\n\u001b[1;32m     12\u001b[0m     CompoundSelect,\n\u001b[1;32m     13\u001b[0m     Delete,\n\u001b[1;32m     14\u001b[0m     FromClause,\n\u001b[1;32m     15\u001b[0m     Insert,\n\u001b[1;32m     16\u001b[0m     Join,\n\u001b[1;32m     17\u001b[0m     Select,\n\u001b[1;32m     18\u001b[0m     Selectable,\n\u001b[1;32m     19\u001b[0m     TableClause,\n\u001b[1;32m     20\u001b[0m     Update,\n\u001b[1;32m     21\u001b[0m     alias,\n\u001b[1;32m     22\u001b[0m     and_,\n\u001b[1;32m     23\u001b[0m     asc,\n\u001b[1;32m     24\u001b[0m     between,\n\u001b[1;32m     25\u001b[0m     bindparam,\n\u001b[1;32m     26\u001b[0m     case,\n\u001b[1;32m     27\u001b[0m     cast,\n\u001b[1;32m     28\u001b[0m     collate,\n\u001b[1;32m     29\u001b[0m     column,\n\u001b[1;32m     30\u001b[0m     delete,\n\u001b[1;32m     31\u001b[0m     desc,\n\u001b[1;32m     32\u001b[0m     distinct,\n\u001b[1;32m     33\u001b[0m     except_,\n\u001b[1;32m     34\u001b[0m     except_all,\n\u001b[1;32m     35\u001b[0m     exists,\n\u001b[1;32m     36\u001b[0m     extract,\n\u001b[1;32m     37\u001b[0m     false,\n\u001b[1;32m     38\u001b[0m     func,\n\u001b[1;32m     39\u001b[0m     insert,\n\u001b[1;32m     40\u001b[0m     intersect,\n\u001b[1;32m     41\u001b[0m     intersect_all,\n\u001b[1;32m     42\u001b[0m     join,\n\u001b[1;32m     43\u001b[0m     label,\n\u001b[1;32m     44\u001b[0m     literal,\n\u001b[1;32m     45\u001b[0m     literal_column,\n\u001b[1;32m     46\u001b[0m     modifier,\n\u001b[1;32m     47\u001b[0m     not_,\n\u001b[1;32m     48\u001b[0m     null,\n\u001b[1;32m     49\u001b[0m     or_,\n\u001b[1;32m     50\u001b[0m     outerjoin,\n\u001b[1;32m     51\u001b[0m     outparam,\n\u001b[1;32m     52\u001b[0m     over,\n\u001b[1;32m     53\u001b[0m     select,\n\u001b[1;32m     54\u001b[0m     subquery,\n\u001b[1;32m     55\u001b[0m     table,\n\u001b[1;32m     56\u001b[0m     text,\n\u001b[1;32m     57\u001b[0m     true,\n\u001b[1;32m     58\u001b[0m     tuple_,\n\u001b[1;32m     59\u001b[0m     type_coerce,\n\u001b[1;32m     60\u001b[0m     union,\n\u001b[1;32m     61\u001b[0m     union_all,\n\u001b[1;32m     62\u001b[0m     update,\n\u001b[1;32m     63\u001b[0m     )\n\u001b[1;32m     65\u001b[0m \u001b[39mfrom\u001b[39;00m \u001b[39msqlalchemy\u001b[39;00m\u001b[39m.\u001b[39;00m\u001b[39msql\u001b[39;00m\u001b[39m.\u001b[39;00m\u001b[39mvisitors\u001b[39;00m \u001b[39mimport\u001b[39;00m ClauseVisitor\n\u001b[1;32m     67\u001b[0m __tmp \u001b[39m=\u001b[39m \u001b[39mlocals\u001b[39m()\u001b[39m.\u001b[39mkeys()\n",
      "File \u001b[0;32m/workspaces/niddy-bot/.venv/lib/python3.11/site-packages/sqlalchemy/sql/expression.py:32\u001b[0m\n\u001b[1;32m     29\u001b[0m \u001b[39mimport\u001b[39;00m \u001b[39mitertools\u001b[39;00m\u001b[39m,\u001b[39m \u001b[39mre\u001b[39;00m\n\u001b[1;32m     30\u001b[0m \u001b[39mfrom\u001b[39;00m \u001b[39moperator\u001b[39;00m \u001b[39mimport\u001b[39;00m attrgetter\n\u001b[0;32m---> 32\u001b[0m \u001b[39mfrom\u001b[39;00m \u001b[39msqlalchemy\u001b[39;00m \u001b[39mimport\u001b[39;00m util, exc\n\u001b[1;32m     33\u001b[0m \u001b[39mfrom\u001b[39;00m \u001b[39msqlalchemy\u001b[39;00m\u001b[39m.\u001b[39;00m\u001b[39msql\u001b[39;00m \u001b[39mimport\u001b[39;00m operators\n\u001b[1;32m     34\u001b[0m \u001b[39mfrom\u001b[39;00m \u001b[39msqlalchemy\u001b[39;00m\u001b[39m.\u001b[39;00m\u001b[39msql\u001b[39;00m\u001b[39m.\u001b[39;00m\u001b[39moperators\u001b[39;00m \u001b[39mimport\u001b[39;00m Operators, ColumnOperators\n",
      "File \u001b[0;32m/workspaces/niddy-bot/.venv/lib/python3.11/site-packages/sqlalchemy/util/__init__.py:7\u001b[0m\n\u001b[1;32m      1\u001b[0m \u001b[39m# util/__init__.py\u001b[39;00m\n\u001b[1;32m      2\u001b[0m \u001b[39m# Copyright (C) 2005-2013 the SQLAlchemy authors and contributors <see AUTHORS file>\u001b[39;00m\n\u001b[1;32m      3\u001b[0m \u001b[39m#\u001b[39;00m\n\u001b[1;32m      4\u001b[0m \u001b[39m# This module is part of SQLAlchemy and is released under\u001b[39;00m\n\u001b[1;32m      5\u001b[0m \u001b[39m# the MIT License: http://www.opensource.org/licenses/mit-license.php\u001b[39;00m\n\u001b[0;32m----> 7\u001b[0m \u001b[39mfrom\u001b[39;00m \u001b[39mcompat\u001b[39;00m \u001b[39mimport\u001b[39;00m \u001b[39mcallable\u001b[39m, cmp, reduce, defaultdict, py25_dict, \\\n\u001b[1;32m      8\u001b[0m     threading, py3k_warning, jython, pypy, cpython, win32, set_types, buffer, \\\n\u001b[1;32m      9\u001b[0m     pickle, update_wrapper, partial, md5_hex, decode_slice, dottedgetter,\\\n\u001b[1;32m     10\u001b[0m     parse_qsl, \u001b[39many\u001b[39m, contextmanager, \u001b[39mnext\u001b[39m\n\u001b[1;32m     12\u001b[0m \u001b[39mfrom\u001b[39;00m \u001b[39m_collections\u001b[39;00m \u001b[39mimport\u001b[39;00m NamedTuple, ImmutableContainer, immutabledict, \\\n\u001b[1;32m     13\u001b[0m     Properties, OrderedProperties, ImmutableProperties, OrderedDict, \\\n\u001b[1;32m     14\u001b[0m     OrderedSet, IdentitySet, OrderedIdentitySet, column_set, \\\n\u001b[0;32m   (...)\u001b[0m\n\u001b[1;32m     17\u001b[0m     to_column_set, update_copy, flatten_iterator, WeakIdentityMapping, \\\n\u001b[1;32m     18\u001b[0m     LRUCache, ScopedRegistry, ThreadLocalRegistry\n\u001b[1;32m     20\u001b[0m \u001b[39mfrom\u001b[39;00m \u001b[39mlanghelpers\u001b[39;00m \u001b[39mimport\u001b[39;00m iterate_attributes, class_hierarchy, \\\n\u001b[1;32m     21\u001b[0m     portable_instancemethod, unbound_method_to_callable, \\\n\u001b[1;32m     22\u001b[0m     getargspec_init, format_argspec_init, format_argspec_plus, \\\n\u001b[0;32m   (...)\u001b[0m\n\u001b[1;32m     29\u001b[0m     constructor_copy, methods_equivalent, chop_traceback, asint,\\\n\u001b[1;32m     30\u001b[0m     generic_repr, counter\n",
      "\u001b[0;31mModuleNotFoundError\u001b[0m: No module named 'compat'"
     ]
    }
   ],
   "source": [
    "import camelot\n",
    "from llama_index import Document, SummaryIndex\n",
    "\n",
    "from llama_index import VectorStoreIndex, ServiceContext, LLMPredictor\n",
    "from llama_index.query_engine import PandasQueryEngine, RetrieverQueryEngine\n",
    "from llama_index.retrievers import RecursiveRetriever\n",
    "from llama_index.schema import IndexNode\n",
    "from llama_index.llms import OpenAI\n",
    "\n",
    "from llama_hub.file.pymu_pdf.base import PyMuPDFReader\n",
    "from pathlib import Path\n",
    "from typing import List"
   ]
  },
  {
   "cell_type": "code",
   "execution_count": 3,
   "metadata": {},
   "outputs": [],
   "source": [
    "file_path = \"../../NDIS Pricing Arrangements for Specialist Disability Accommodation 2023-24  - effective 1 July 2023.pdf\""
   ]
  },
  {
   "cell_type": "code",
   "execution_count": 6,
   "metadata": {},
   "outputs": [
    {
     "ename": "NameError",
     "evalue": "name 'PyMuPDFReader' is not defined",
     "output_type": "error",
     "traceback": [
      "\u001b[0;31m---------------------------------------------------------------------------\u001b[0m",
      "\u001b[0;31mNameError\u001b[0m                                 Traceback (most recent call last)",
      "\u001b[1;32m/workspaces/niddy-bot/src/notebooks/niddy_llamaindex.ipynb Cell 9\u001b[0m line \u001b[0;36m2\n\u001b[1;32m      <a href='vscode-notebook-cell://dev-container%2B7b22686f737450617468223a22643a5c5c7372635c5c6e696464792d626f74222c22636f6e66696746696c65223a7b22246d6964223a312c22667350617468223a22643a5c5c7372635c5c6e696464792d626f745c5c2e646576636f6e7461696e65725c5c646576636f6e7461696e65722e6a736f6e222c225f736570223a312c2265787465726e616c223a2266696c653a2f2f2f642533412f7372632f6e696464792d626f742f2e646576636f6e7461696e65722f646576636f6e7461696e65722e6a736f6e222c2270617468223a222f643a2f7372632f6e696464792d626f742f2e646576636f6e7461696e65722f646576636f6e7461696e65722e6a736f6e222c22736368656d65223a2266696c65227d7d/workspaces/niddy-bot/src/notebooks/niddy_llamaindex.ipynb#X12sdnNjb2RlLXJlbW90ZQ%3D%3D?line=0'>1</a>\u001b[0m \u001b[39m# initialize PDF reader\u001b[39;00m\n\u001b[0;32m----> <a href='vscode-notebook-cell://dev-container%2B7b22686f737450617468223a22643a5c5c7372635c5c6e696464792d626f74222c22636f6e66696746696c65223a7b22246d6964223a312c22667350617468223a22643a5c5c7372635c5c6e696464792d626f745c5c2e646576636f6e7461696e65725c5c646576636f6e7461696e65722e6a736f6e222c225f736570223a312c2265787465726e616c223a2266696c653a2f2f2f642533412f7372632f6e696464792d626f742f2e646576636f6e7461696e65722f646576636f6e7461696e65722e6a736f6e222c2270617468223a222f643a2f7372632f6e696464792d626f742f2e646576636f6e7461696e65722f646576636f6e7461696e65722e6a736f6e222c22736368656d65223a2266696c65227d7d/workspaces/niddy-bot/src/notebooks/niddy_llamaindex.ipynb#X12sdnNjb2RlLXJlbW90ZQ%3D%3D?line=1'>2</a>\u001b[0m reader \u001b[39m=\u001b[39m PyMuPDFReader()\n\u001b[1;32m      <a href='vscode-notebook-cell://dev-container%2B7b22686f737450617468223a22643a5c5c7372635c5c6e696464792d626f74222c22636f6e66696746696c65223a7b22246d6964223a312c22667350617468223a22643a5c5c7372635c5c6e696464792d626f745c5c2e646576636f6e7461696e65725c5c646576636f6e7461696e65722e6a736f6e222c225f736570223a312c2265787465726e616c223a2266696c653a2f2f2f642533412f7372632f6e696464792d626f742f2e646576636f6e7461696e65722f646576636f6e7461696e65722e6a736f6e222c2270617468223a222f643a2f7372632f6e696464792d626f742f2e646576636f6e7461696e65722f646576636f6e7461696e65722e6a736f6e222c22736368656d65223a2266696c65227d7d/workspaces/niddy-bot/src/notebooks/niddy_llamaindex.ipynb#X12sdnNjb2RlLXJlbW90ZQ%3D%3D?line=2'>3</a>\u001b[0m docs \u001b[39m=\u001b[39m reader\u001b[39m.\u001b[39mload(file_path)\n",
      "\u001b[0;31mNameError\u001b[0m: name 'PyMuPDFReader' is not defined"
     ]
    }
   ],
   "source": [
    "# initialize PDF reader\n",
    "reader = PyMuPDFReader()\n",
    "docs = reader.load(file_path)"
   ]
  },
  {
   "cell_type": "code",
   "execution_count": null,
   "metadata": {},
   "outputs": [],
   "source": [
    "# use camelot to parse tables\n",
    "def get_tables(path: str, pages: List[int]):\n",
    "    table_dfs = []\n",
    "    for page in pages:\n",
    "        table_list = camelot.read_pdf(path, pages=str(page))\n",
    "        table_df = table_list[0].df\n",
    "        table_df = (\n",
    "            table_df.rename(columns=table_df.iloc[0])\n",
    "            .drop(table_df.index[0])\n",
    "            .reset_index(drop=True)\n",
    "        )\n",
    "        table_dfs.append(table_df)\n",
    "    return table_dfs"
   ]
  }
 ],
 "metadata": {
  "kernelspec": {
   "display_name": ".venv",
   "language": "python",
   "name": "python3"
  },
  "language_info": {
   "codemirror_mode": {
    "name": "ipython",
    "version": 3
   },
   "file_extension": ".py",
   "mimetype": "text/x-python",
   "name": "python",
   "nbconvert_exporter": "python",
   "pygments_lexer": "ipython3",
   "version": "3.11.4"
  }
 },
 "nbformat": 4,
 "nbformat_minor": 2
}
