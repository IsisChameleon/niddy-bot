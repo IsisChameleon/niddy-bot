{
 "cells": [
  {
   "cell_type": "markdown",
   "metadata": {},
   "source": []
  },
  {
   "cell_type": "code",
   "execution_count": 1,
   "metadata": {},
   "outputs": [],
   "source": [
    "from dotenv import load_dotenv\n",
    "load_dotenv(override=True)\n",
    "\n",
    "__import__('pysqlite3')\n",
    "import sys\n",
    "sys.modules['sqlite3'] = sys.modules.pop('pysqlite3')"
   ]
  },
  {
   "cell_type": "code",
   "execution_count": 5,
   "metadata": {},
   "outputs": [],
   "source": [
    "\n",
    "\n",
    "from modules.retriever import ChromaRetriever\n",
    "\n",
    "\n",
    "\n",
    "bb = ChromaRetriever()\n",
    "\n",
    "    \n"
   ]
  },
  {
   "cell_type": "code",
   "execution_count": 6,
   "metadata": {},
   "outputs": [],
   "source": [
    "from modules.loaders import MyDirectoryLoader\n",
    "from langchain.text_splitter import RecursiveCharacterTextSplitter\n",
    "\n",
    "loader = MyDirectoryLoader(dir_path = '../data')\n",
    "splitter = RecursiveCharacterTextSplitter(chunk_size=1024, chunk_overlap=256)\n",
    "search_kwargs = {\n",
    "    \"distance_metric\": \"cos\",\n",
    "    \"fetch_k\": 10, \n",
    "    \"k\": 20,\n",
    "    \"maximal_marginal_relevance\": True\n",
    "}\n",
    "\n"
   ]
  },
  {
   "cell_type": "code",
   "execution_count": 7,
   "metadata": {},
   "outputs": [],
   "source": [
    "newCollection_kwargs = {\n",
    "    \"loader\": loader,\n",
    "    \"splitter\": splitter\n",
    "}"
   ]
  },
  {
   "cell_type": "code",
   "execution_count": 5,
   "metadata": {},
   "outputs": [
    {
     "ename": "TypeError",
     "evalue": "unsupported operand type(s) for +: 'Settings' and 'str'",
     "output_type": "error",
     "traceback": [
      "\u001b[0;31m---------------------------------------------------------------------------\u001b[0m",
      "\u001b[0;31mTypeError\u001b[0m                                 Traceback (most recent call last)",
      "Cell \u001b[0;32mIn[5], line 2\u001b[0m\n\u001b[1;32m      1\u001b[0m \u001b[39mfrom\u001b[39;00m \u001b[39mmodules\u001b[39;00m\u001b[39m.\u001b[39;00m\u001b[39mretriever\u001b[39;00m \u001b[39mimport\u001b[39;00m ChromaRetriever\n\u001b[0;32m----> 2\u001b[0m ChromaRetriever()\n",
      "File \u001b[0;32m/workspaces/niddy-bot/src/modules/retriever.py:17\u001b[0m, in \u001b[0;36mChromaRetriever.__init__\u001b[0;34m(self, client_settings)\u001b[0m\n\u001b[1;32m     15\u001b[0m \u001b[39mdef\u001b[39;00m \u001b[39m__init__\u001b[39m(\u001b[39mself\u001b[39m,  client_settings\u001b[39m=\u001b[39m\u001b[39mNone\u001b[39;00m):    \n\u001b[1;32m     16\u001b[0m     \u001b[39mself\u001b[39m\u001b[39m.\u001b[39mclient_settings: Settings \u001b[39m=\u001b[39m client_settings \u001b[39mor\u001b[39;00m \u001b[39mself\u001b[39m\u001b[39m.\u001b[39m_localhost_client_settings\n\u001b[0;32m---> 17\u001b[0m     \u001b[39mself\u001b[39m\u001b[39m.\u001b[39mclient: API \u001b[39m=\u001b[39m PersistentClient(\u001b[39mself\u001b[39;49m\u001b[39m.\u001b[39;49mclient_settings)\n",
      "File \u001b[0;32m/workspaces/niddy-bot/.venv/lib/python3.11/site-packages/chromadb/__init__.py:106\u001b[0m, in \u001b[0;36mPersistentClient\u001b[0;34m(path, settings)\u001b[0m\n\u001b[1;32m    103\u001b[0m settings\u001b[39m.\u001b[39mpersist_directory \u001b[39m=\u001b[39m path\n\u001b[1;32m    104\u001b[0m settings\u001b[39m.\u001b[39mis_persistent \u001b[39m=\u001b[39m \u001b[39mTrue\u001b[39;00m\n\u001b[0;32m--> 106\u001b[0m \u001b[39mreturn\u001b[39;00m Client(settings)\n",
      "File \u001b[0;32m/workspaces/niddy-bot/.venv/lib/python3.11/site-packages/chromadb/__init__.py:143\u001b[0m, in \u001b[0;36mClient\u001b[0;34m(settings)\u001b[0m\n\u001b[1;32m    140\u001b[0m system \u001b[39m=\u001b[39m System(settings)\n\u001b[1;32m    142\u001b[0m telemetry_client \u001b[39m=\u001b[39m system\u001b[39m.\u001b[39minstance(Telemetry)\n\u001b[0;32m--> 143\u001b[0m api \u001b[39m=\u001b[39m system\u001b[39m.\u001b[39;49minstance(API)\n\u001b[1;32m    145\u001b[0m system\u001b[39m.\u001b[39mstart()\n\u001b[1;32m    147\u001b[0m \u001b[39m# Submit event for client start\u001b[39;00m\n",
      "File \u001b[0;32m/workspaces/niddy-bot/.venv/lib/python3.11/site-packages/chromadb/config.py:247\u001b[0m, in \u001b[0;36mSystem.instance\u001b[0;34m(self, type)\u001b[0m\n\u001b[1;32m    244\u001b[0m     \u001b[39mtype\u001b[39m \u001b[39m=\u001b[39m get_class(fqn, \u001b[39mtype\u001b[39m)\n\u001b[1;32m    246\u001b[0m \u001b[39mif\u001b[39;00m \u001b[39mtype\u001b[39m \u001b[39mnot\u001b[39;00m \u001b[39min\u001b[39;00m \u001b[39mself\u001b[39m\u001b[39m.\u001b[39m_instances:\n\u001b[0;32m--> 247\u001b[0m     impl \u001b[39m=\u001b[39m \u001b[39mtype\u001b[39;49m(\u001b[39mself\u001b[39;49m)\n\u001b[1;32m    248\u001b[0m     \u001b[39mself\u001b[39m\u001b[39m.\u001b[39m_instances[\u001b[39mtype\u001b[39m] \u001b[39m=\u001b[39m impl\n\u001b[1;32m    249\u001b[0m     \u001b[39mif\u001b[39;00m \u001b[39mself\u001b[39m\u001b[39m.\u001b[39m_running:\n",
      "File \u001b[0;32m/workspaces/niddy-bot/.venv/lib/python3.11/site-packages/chromadb/api/segment.py:81\u001b[0m, in \u001b[0;36mSegmentAPI.__init__\u001b[0;34m(self, system)\u001b[0m\n\u001b[1;32m     79\u001b[0m \u001b[39msuper\u001b[39m()\u001b[39m.\u001b[39m\u001b[39m__init__\u001b[39m(system)\n\u001b[1;32m     80\u001b[0m \u001b[39mself\u001b[39m\u001b[39m.\u001b[39m_settings \u001b[39m=\u001b[39m system\u001b[39m.\u001b[39msettings\n\u001b[0;32m---> 81\u001b[0m \u001b[39mself\u001b[39m\u001b[39m.\u001b[39m_sysdb \u001b[39m=\u001b[39m \u001b[39mself\u001b[39;49m\u001b[39m.\u001b[39;49mrequire(SysDB)\n\u001b[1;32m     82\u001b[0m \u001b[39mself\u001b[39m\u001b[39m.\u001b[39m_manager \u001b[39m=\u001b[39m \u001b[39mself\u001b[39m\u001b[39m.\u001b[39mrequire(SegmentManager)\n\u001b[1;32m     83\u001b[0m \u001b[39mself\u001b[39m\u001b[39m.\u001b[39m_telemetry_client \u001b[39m=\u001b[39m \u001b[39mself\u001b[39m\u001b[39m.\u001b[39mrequire(Telemetry)\n",
      "File \u001b[0;32m/workspaces/niddy-bot/.venv/lib/python3.11/site-packages/chromadb/config.py:188\u001b[0m, in \u001b[0;36mComponent.require\u001b[0;34m(self, type)\u001b[0m\n\u001b[1;32m    185\u001b[0m \u001b[39mdef\u001b[39;00m \u001b[39mrequire\u001b[39m(\u001b[39mself\u001b[39m, \u001b[39mtype\u001b[39m: Type[T]) \u001b[39m-\u001b[39m\u001b[39m>\u001b[39m T:\n\u001b[1;32m    186\u001b[0m \u001b[39m    \u001b[39m\u001b[39m\"\"\"Get a Component instance of the given type, and register as a dependency of\u001b[39;00m\n\u001b[1;32m    187\u001b[0m \u001b[39m    that instance.\"\"\"\u001b[39;00m\n\u001b[0;32m--> 188\u001b[0m     inst \u001b[39m=\u001b[39m \u001b[39mself\u001b[39;49m\u001b[39m.\u001b[39;49m_system\u001b[39m.\u001b[39;49minstance(\u001b[39mtype\u001b[39;49m)\n\u001b[1;32m    189\u001b[0m     \u001b[39mself\u001b[39m\u001b[39m.\u001b[39m_dependencies\u001b[39m.\u001b[39madd(inst)\n\u001b[1;32m    190\u001b[0m     \u001b[39mreturn\u001b[39;00m inst\n",
      "File \u001b[0;32m/workspaces/niddy-bot/.venv/lib/python3.11/site-packages/chromadb/config.py:247\u001b[0m, in \u001b[0;36mSystem.instance\u001b[0;34m(self, type)\u001b[0m\n\u001b[1;32m    244\u001b[0m     \u001b[39mtype\u001b[39m \u001b[39m=\u001b[39m get_class(fqn, \u001b[39mtype\u001b[39m)\n\u001b[1;32m    246\u001b[0m \u001b[39mif\u001b[39;00m \u001b[39mtype\u001b[39m \u001b[39mnot\u001b[39;00m \u001b[39min\u001b[39;00m \u001b[39mself\u001b[39m\u001b[39m.\u001b[39m_instances:\n\u001b[0;32m--> 247\u001b[0m     impl \u001b[39m=\u001b[39m \u001b[39mtype\u001b[39;49m(\u001b[39mself\u001b[39;49m)\n\u001b[1;32m    248\u001b[0m     \u001b[39mself\u001b[39m\u001b[39m.\u001b[39m_instances[\u001b[39mtype\u001b[39m] \u001b[39m=\u001b[39m impl\n\u001b[1;32m    249\u001b[0m     \u001b[39mif\u001b[39;00m \u001b[39mself\u001b[39m\u001b[39m.\u001b[39m_running:\n",
      "File \u001b[0;32m/workspaces/niddy-bot/.venv/lib/python3.11/site-packages/chromadb/db/impl/sqlite.py:79\u001b[0m, in \u001b[0;36mSqliteDB.__init__\u001b[0;34m(self, system)\u001b[0m\n\u001b[1;32m     76\u001b[0m     \u001b[39mself\u001b[39m\u001b[39m.\u001b[39m_conn_pool \u001b[39m=\u001b[39m LockPool(\u001b[39mself\u001b[39m\u001b[39m.\u001b[39m_db_file, is_uri\u001b[39m=\u001b[39m\u001b[39mTrue\u001b[39;00m)\n\u001b[1;32m     77\u001b[0m \u001b[39melse\u001b[39;00m:\n\u001b[1;32m     78\u001b[0m     \u001b[39mself\u001b[39m\u001b[39m.\u001b[39m_db_file \u001b[39m=\u001b[39m (\n\u001b[0;32m---> 79\u001b[0m         \u001b[39mself\u001b[39;49m\u001b[39m.\u001b[39;49m_settings\u001b[39m.\u001b[39;49mrequire(\u001b[39m\"\u001b[39;49m\u001b[39mpersist_directory\u001b[39;49m\u001b[39m\"\u001b[39;49m) \u001b[39m+\u001b[39;49m \u001b[39m\"\u001b[39;49m\u001b[39m/chroma.sqlite3\u001b[39;49m\u001b[39m\"\u001b[39;49m\n\u001b[1;32m     80\u001b[0m     )\n\u001b[1;32m     81\u001b[0m     \u001b[39mif\u001b[39;00m \u001b[39mnot\u001b[39;00m os\u001b[39m.\u001b[39mpath\u001b[39m.\u001b[39mexists(\u001b[39mself\u001b[39m\u001b[39m.\u001b[39m_db_file):\n\u001b[1;32m     82\u001b[0m         os\u001b[39m.\u001b[39mmakedirs(os\u001b[39m.\u001b[39mpath\u001b[39m.\u001b[39mdirname(\u001b[39mself\u001b[39m\u001b[39m.\u001b[39m_db_file), exist_ok\u001b[39m=\u001b[39m\u001b[39mTrue\u001b[39;00m)\n",
      "\u001b[0;31mTypeError\u001b[0m: unsupported operand type(s) for +: 'Settings' and 'str'"
     ]
    }
   ],
   "source": [
    "from modules.retriever import ChromaRetriever\n",
    "ChromaRetriever().build('NDIS_ALL_PDFPLUMBER_TEXTS_1024_256', search_kwargs, newCollection_kwargs)"
   ]
  },
  {
   "cell_type": "code",
   "execution_count": 4,
   "metadata": {},
   "outputs": [],
   "source": []
  },
  {
   "cell_type": "code",
   "execution_count": 3,
   "metadata": {},
   "outputs": [
    {
     "ename": "ValueError",
     "evalue": "\u001b[91mYou are using a deprecated configuration of Chroma.\n\n\u001b[94mIf you do not have data you wish to migrate, you only need to change how you construct\nyour Chroma client. Please see the \"New Clients\" section of https://docs.trychroma.com/migration.\n________________________________________________________________________________________________\n\nIf you do have data you wish to migrate, we have a migration tool you can use in order to\nmigrate your data to the new Chroma architecture.\nPlease `pip install chroma-migrate` and run `chroma-migrate` to migrate your data and then\nchange how you construct your Chroma client.\n\nSee https://docs.trychroma.com/migration for more information or join our discord at https://discord.gg/8g5FESbj for help!\u001b[0m",
     "output_type": "error",
     "traceback": [
      "\u001b[0;31m---------------------------------------------------------------------------\u001b[0m",
      "\u001b[0;31mValueError\u001b[0m                                Traceback (most recent call last)",
      "Cell \u001b[0;32mIn[3], line 4\u001b[0m\n\u001b[1;32m      1\u001b[0m \u001b[39mfrom\u001b[39;00m \u001b[39mmodules\u001b[39;00m\u001b[39m.\u001b[39;00m\u001b[39mchatbot\u001b[39;00m \u001b[39mimport\u001b[39;00m Chatbot\n\u001b[1;32m      2\u001b[0m \u001b[39mfrom\u001b[39;00m \u001b[39mmodules\u001b[39;00m\u001b[39m.\u001b[39;00m\u001b[39mretriever\u001b[39;00m \u001b[39mimport\u001b[39;00m ChromaRetriever\n\u001b[0;32m----> 4\u001b[0m retriever \u001b[39m=\u001b[39m ChromaRetriever()\u001b[39m.\u001b[39mfromExistingCollection(collection_name\u001b[39m=\u001b[39m\u001b[39m'\u001b[39m\u001b[39mNDIS_ALL_PDFPLUMBER_TEXTS_1024_128\u001b[39m\u001b[39m'\u001b[39m)\n",
      "File \u001b[0;32m/workspaces/niddy-bot/src/modules/retriever.py:16\u001b[0m, in \u001b[0;36mChromaRetriever.__init__\u001b[0;34m(self, client_settings)\u001b[0m\n\u001b[1;32m     14\u001b[0m \u001b[39mdef\u001b[39;00m \u001b[39m__init__\u001b[39m(\u001b[39mself\u001b[39m,  client_settings\u001b[39m=\u001b[39m\u001b[39mNone\u001b[39;00m):    \n\u001b[1;32m     15\u001b[0m     \u001b[39mself\u001b[39m\u001b[39m.\u001b[39mclient_settings: Settings \u001b[39m=\u001b[39m client_settings \u001b[39mor\u001b[39;00m \u001b[39mself\u001b[39m\u001b[39m.\u001b[39m_localhost_client_settings\n\u001b[0;32m---> 16\u001b[0m     \u001b[39mself\u001b[39m\u001b[39m.\u001b[39mclient: API \u001b[39m=\u001b[39m Client(\u001b[39mself\u001b[39;49m\u001b[39m.\u001b[39;49mclient_settings)\n",
      "File \u001b[0;32m/workspaces/niddy-bot/.venv/lib/python3.11/site-packages/chromadb/__init__.py:143\u001b[0m, in \u001b[0;36mClient\u001b[0;34m(settings)\u001b[0m\n\u001b[1;32m    140\u001b[0m system \u001b[39m=\u001b[39m System(settings)\n\u001b[1;32m    142\u001b[0m telemetry_client \u001b[39m=\u001b[39m system\u001b[39m.\u001b[39minstance(Telemetry)\n\u001b[0;32m--> 143\u001b[0m api \u001b[39m=\u001b[39m system\u001b[39m.\u001b[39;49minstance(API)\n\u001b[1;32m    145\u001b[0m system\u001b[39m.\u001b[39mstart()\n\u001b[1;32m    147\u001b[0m \u001b[39m# Submit event for client start\u001b[39;00m\n",
      "File \u001b[0;32m/workspaces/niddy-bot/.venv/lib/python3.11/site-packages/chromadb/config.py:243\u001b[0m, in \u001b[0;36mSystem.instance\u001b[0;34m(self, type)\u001b[0m\n\u001b[1;32m    241\u001b[0m         \u001b[39mraise\u001b[39;00m \u001b[39mValueError\u001b[39;00m(\u001b[39mf\u001b[39m\u001b[39m\"\u001b[39m\u001b[39mCannot instantiate abstract type: \u001b[39m\u001b[39m{\u001b[39;00m\u001b[39mtype\u001b[39m\u001b[39m}\u001b[39;00m\u001b[39m\"\u001b[39m)\n\u001b[1;32m    242\u001b[0m     key \u001b[39m=\u001b[39m _abstract_type_keys[type_fqn]\n\u001b[0;32m--> 243\u001b[0m     fqn \u001b[39m=\u001b[39m \u001b[39mself\u001b[39;49m\u001b[39m.\u001b[39;49msettings\u001b[39m.\u001b[39;49mrequire(key)\n\u001b[1;32m    244\u001b[0m     \u001b[39mtype\u001b[39m \u001b[39m=\u001b[39m get_class(fqn, \u001b[39mtype\u001b[39m)\n\u001b[1;32m    246\u001b[0m \u001b[39mif\u001b[39;00m \u001b[39mtype\u001b[39m \u001b[39mnot\u001b[39;00m \u001b[39min\u001b[39;00m \u001b[39mself\u001b[39m\u001b[39m.\u001b[39m_instances:\n",
      "File \u001b[0;32m/workspaces/niddy-bot/.venv/lib/python3.11/site-packages/chromadb/config.py:155\u001b[0m, in \u001b[0;36mSettings.require\u001b[0;34m(self, key)\u001b[0m\n\u001b[1;32m    152\u001b[0m \u001b[39mdef\u001b[39;00m \u001b[39mrequire\u001b[39m(\u001b[39mself\u001b[39m, key: \u001b[39mstr\u001b[39m) \u001b[39m-\u001b[39m\u001b[39m>\u001b[39m Any:\n\u001b[1;32m    153\u001b[0m \u001b[39m    \u001b[39m\u001b[39m\"\"\"Return the value of a required config key, or raise an exception if it is not\u001b[39;00m\n\u001b[1;32m    154\u001b[0m \u001b[39m    set\"\"\"\u001b[39;00m\n\u001b[0;32m--> 155\u001b[0m     val \u001b[39m=\u001b[39m \u001b[39mself\u001b[39;49m[key]\n\u001b[1;32m    156\u001b[0m     \u001b[39mif\u001b[39;00m val \u001b[39mis\u001b[39;00m \u001b[39mNone\u001b[39;00m:\n\u001b[1;32m    157\u001b[0m         \u001b[39mraise\u001b[39;00m \u001b[39mValueError\u001b[39;00m(\u001b[39mf\u001b[39m\u001b[39m\"\u001b[39m\u001b[39mMissing required config value \u001b[39m\u001b[39m'\u001b[39m\u001b[39m{\u001b[39;00mkey\u001b[39m}\u001b[39;00m\u001b[39m'\u001b[39m\u001b[39m\"\u001b[39m)\n",
      "File \u001b[0;32m/workspaces/niddy-bot/.venv/lib/python3.11/site-packages/chromadb/config.py:164\u001b[0m, in \u001b[0;36mSettings.__getitem__\u001b[0;34m(self, key)\u001b[0m\n\u001b[1;32m    162\u001b[0m \u001b[39m# Error on legacy config values\u001b[39;00m\n\u001b[1;32m    163\u001b[0m \u001b[39mif\u001b[39;00m \u001b[39misinstance\u001b[39m(val, \u001b[39mstr\u001b[39m) \u001b[39mand\u001b[39;00m val \u001b[39min\u001b[39;00m _legacy_config_values:\n\u001b[0;32m--> 164\u001b[0m     \u001b[39mraise\u001b[39;00m \u001b[39mValueError\u001b[39;00m(LEGACY_ERROR)\n\u001b[1;32m    165\u001b[0m \u001b[39mreturn\u001b[39;00m val\n",
      "\u001b[0;31mValueError\u001b[0m: \u001b[91mYou are using a deprecated configuration of Chroma.\n\n\u001b[94mIf you do not have data you wish to migrate, you only need to change how you construct\nyour Chroma client. Please see the \"New Clients\" section of https://docs.trychroma.com/migration.\n________________________________________________________________________________________________\n\nIf you do have data you wish to migrate, we have a migration tool you can use in order to\nmigrate your data to the new Chroma architecture.\nPlease `pip install chroma-migrate` and run `chroma-migrate` to migrate your data and then\nchange how you construct your Chroma client.\n\nSee https://docs.trychroma.com/migration for more information or join our discord at https://discord.gg/8g5FESbj for help!\u001b[0m"
     ]
    }
   ],
   "source": [
    "from modules.chatbot import Chatbot\n",
    "from modules.retriever import ChromaRetriever\n",
    "\n",
    "retriever = ChromaRetriever().fromExistingCollection(collection_name='NDIS_ALL_PDFPLUMBER_TEXTS_1024_128')\n",
    "\n",
    "\n"
   ]
  },
  {
   "cell_type": "code",
   "execution_count": 8,
   "metadata": {},
   "outputs": [
    {
     "name": "stdout",
     "output_type": "stream",
     "text": [
      "Inputs: {'question': 'I am a registered nurse and I want to invoice for visiting a patient on saturday night, can you help?', 'chat_history': []}\n",
      "Count Inputs: 2\n",
      "Chroma Similarity search: [(Document(page_content='Saturday\\nDelivery of Health Supports by an Enrolled Nurse - $152.61 $213.65 $228.92\\n01_603_0114_1_1 Hour\\nSunday\\nDelivery of Health Supports by an Enrolled Nurse - $172.44 $241.42 $258.66\\n01_604_0114_1_1 Hour\\nPublic Holiday\\nDelivery of Health Supports by a Registered Nurse $115.21 $161.29 $172.82\\n01_606_0114_1_1 Hour\\n- Weekday Daytime\\nDelivery of Health Supports by a Registered Nurse $127.10 $177.94 $190.65\\n01_607_0114_1_1 Hour\\n- Weekday Evening\\nDelivery of Health Supports by a Registered Nurse $129.46 $181.24 $194.19\\n01_611_0114_1_1 Hour\\n- Weekday Night\\nDelivery of Health Supports by a Registered Nurse $164.42 $230.19 $246.63\\n01_608_0114_1_1 Hour\\n- Saturday\\nDelivery of Health Supports by a Registered Nurse $189.02 $264.63 $283.53\\n01_609_0114_1_1 Hour\\n- Sunday\\nDelivery of Health Supports by a Registered Nurse $213.62 $299.07 $320.43\\n01_610_0114_1_1 Hour\\n- Public Holiday\\nDelivery of Health Supports by a Clinical Nurse - $133.27 $186.58 $199.91\\n01_612_0114_1_1 Hour\\nWeekday Daytime', metadata={'source': '../../data/ndis/PB NDIS Pricing Arrangements and Price Limits 2023-24 .pdf', 'file_path': '../../data/ndis/PB NDIS Pricing Arrangements and Price Limits 2023-24 .pdf', 'page': 52, 'total_pages': 101, 'MSIP_Label_2b83f8d7-e91f-4eee-a336-52a8061c0503_Enabled': 'true', 'MSIP_Label_2b83f8d7-e91f-4eee-a336-52a8061c0503_SetDate': '2022-02-24T21:20:38Z', 'MSIP_Label_2b83f8d7-e91f-4eee-a336-52a8061c0503_Method': 'Privileged', 'MSIP_Label_2b83f8d7-e91f-4eee-a336-52a8061c0503_Name': 'OFFICIAL', 'MSIP_Label_2b83f8d7-e91f-4eee-a336-52a8061c0503_SiteId': 'cd778b65-752d-454a-87cf-b9990fe58993', 'MSIP_Label_2b83f8d7-e91f-4eee-a336-52a8061c0503_ActionId': 'a41679f1-751c-43a0-a310-7842fbe5f727', 'MSIP_Label_2b83f8d7-e91f-4eee-a336-52a8061c0503_ContentBits': '0', 'Title': 'NDIS Pricing Arrangements and Price Limits 2023-24', 'Author': 'Rundle, Vincent', 'Creator': 'Microsoft® Word for Microsoft 365', 'CreationDate': \"D:20230615172130+10'00'\", 'ModDate': \"D:20230615172130+10'00'\", 'Producer': 'Microsoft® Word for Microsoft 365'}), 0.3753112852573395), (Document(page_content='Saturday\\nDelivery of Health Supports by an Enrolled Nurse - $152.61 $213.65 $228.92\\n15_403_0114_1_3 Hour\\nSunday\\nDelivery of Health Supports by an Enrolled Nurse - $172.44 $241.42 $258.66\\n15_404_0114_1_3 Hour\\nPublic Holiday\\nDelivery of Health Supports by a Registered Nurse $115.21 $161.29 $172.82\\n15_406_0114_1_3 Hour\\n- Weekday Daytime\\nDelivery of Health Supports by a Registered Nurse $127.10 $177.94 $190.65\\n15_407_0114_1_3 Hour\\n- Weekday Evening\\nDelivery of Health Supports by a Registered Nurse $129.46 $181.24 $194.19\\n15_411_0114_1_3 Hour\\n- Weekday Night\\nDelivery of Health Supports by a Registered Nurse $164.42 $230.19 $246.63\\n15_408_0114_1_3 Hour\\n- Saturday\\nDelivery of Health Supports by a Registered Nurse $189.02 $264.63 $283.53\\n15_409_0114_1_3 Hour\\n- Sunday\\nDelivery of Health Supports by a Registered Nurse $213.62 $299.07 $320.43\\n15_410_0114_1_3 Hour\\n- Public Holiday\\nDelivery of Health Supports by a Clinical Nurse - $133.27 $186.58 $199.91\\n15_412_0114_1_3 Hour\\nWeekday Daytime', metadata={'source': '../../data/ndis/PB NDIS Pricing Arrangements and Price Limits 2023-24 .pdf', 'file_path': '../../data/ndis/PB NDIS Pricing Arrangements and Price Limits 2023-24 .pdf', 'page': 97, 'total_pages': 101, 'MSIP_Label_2b83f8d7-e91f-4eee-a336-52a8061c0503_Enabled': 'true', 'MSIP_Label_2b83f8d7-e91f-4eee-a336-52a8061c0503_SetDate': '2022-02-24T21:20:38Z', 'MSIP_Label_2b83f8d7-e91f-4eee-a336-52a8061c0503_Method': 'Privileged', 'MSIP_Label_2b83f8d7-e91f-4eee-a336-52a8061c0503_Name': 'OFFICIAL', 'MSIP_Label_2b83f8d7-e91f-4eee-a336-52a8061c0503_SiteId': 'cd778b65-752d-454a-87cf-b9990fe58993', 'MSIP_Label_2b83f8d7-e91f-4eee-a336-52a8061c0503_ActionId': 'a41679f1-751c-43a0-a310-7842fbe5f727', 'MSIP_Label_2b83f8d7-e91f-4eee-a336-52a8061c0503_ContentBits': '0', 'Title': 'NDIS Pricing Arrangements and Price Limits 2023-24', 'Author': 'Rundle, Vincent', 'Creator': 'Microsoft® Word for Microsoft 365', 'CreationDate': \"D:20230615172130+10'00'\", 'ModDate': \"D:20230615172130+10'00'\", 'Producer': 'Microsoft® Word for Microsoft 365'}), 0.37858298420906067), (Document(page_content='Consultant - Weekday Evening\\nDelivery of Health Supports by a Clinical Nurse $177.13 $247.98 $265.70\\n15_423_0114_1_3 Hour\\nConsultant - Weekday Night\\nDelivery of Health Supports by a Clinical Nurse $225.03 $315.04 $337.55\\n15_420_0114_1_3 Hour\\nConsultant - Saturday\\nDelivery of Health Supports by a Clinical Nurse $258.73 $362.22 $388.10\\n15_421_0114_1_3 Hour\\nConsultant - Sunday\\nDelivery of Health Supports by a Clinical Nurse $292.43 $409.40 $438.65\\n15_422_0114_1_3 Hour\\nConsultant - Public Holiday\\nDelivery of Health Supports by a Nurse Practitioner $164.78 $230.69 $247.17\\n15_424_0114_1_3 Hour\\n- Weekday Daytime\\nNDIS Pricing Arrangements and Price Limits 2023-24 Version 1.0 (published 16/06/2023) Page 97 of 101', metadata={'source': '../../data/ndis/PB NDIS Pricing Arrangements and Price Limits 2023-24 .pdf', 'file_path': '../../data/ndis/PB NDIS Pricing Arrangements and Price Limits 2023-24 .pdf', 'page': 97, 'total_pages': 101, 'MSIP_Label_2b83f8d7-e91f-4eee-a336-52a8061c0503_Enabled': 'true', 'MSIP_Label_2b83f8d7-e91f-4eee-a336-52a8061c0503_SetDate': '2022-02-24T21:20:38Z', 'MSIP_Label_2b83f8d7-e91f-4eee-a336-52a8061c0503_Method': 'Privileged', 'MSIP_Label_2b83f8d7-e91f-4eee-a336-52a8061c0503_Name': 'OFFICIAL', 'MSIP_Label_2b83f8d7-e91f-4eee-a336-52a8061c0503_SiteId': 'cd778b65-752d-454a-87cf-b9990fe58993', 'MSIP_Label_2b83f8d7-e91f-4eee-a336-52a8061c0503_ActionId': 'a41679f1-751c-43a0-a310-7842fbe5f727', 'MSIP_Label_2b83f8d7-e91f-4eee-a336-52a8061c0503_ContentBits': '0', 'Title': 'NDIS Pricing Arrangements and Price Limits 2023-24', 'Author': 'Rundle, Vincent', 'Creator': 'Microsoft® Word for Microsoft 365', 'CreationDate': \"D:20230615172130+10'00'\", 'ModDate': \"D:20230615172130+10'00'\", 'Producer': 'Microsoft® Word for Microsoft 365'}), 0.3832396864891052), (Document(page_content='Public Holiday, Saturday, Sunday or Night-time Sleepover Support).\\no For Nurses delivering Nursing Supports:\\n▪ A Weekday Daytime Support is any support to a participant that commences before\\n12.00 noon on a Weekday and finishes on the same day (unless it is a Public Holiday,\\nWeekday Evening, or Weekday Night Support).\\n▪ A Weekday Evening Support is any support to a participant that commences not\\nearlier than 12.00 noon on a Weekday and finishes after 6.00 pm on the same day\\n(unless it is a Public Holiday Support).\\n▪ A Weekday Night Support is any support to a participant that commences on or after\\n6.00 pm on a Weekday and finishes before 7.30 am on the following day (unless it is a\\nPublic Holiday Support).\\nIf a support to a participant does not meet one of the above criteria then it needs to be billed as two\\nor more separate supports. An exception to this general rule occurs when a particular support\\ncrosses a shift boundary and the same worker delivers the entire support. In this case, the higher', metadata={'source': '../../data/ndis/PB NDIS Pricing Arrangements and Price Limits 2023-24 .pdf', 'file_path': '../../data/ndis/PB NDIS Pricing Arrangements and Price Limits 2023-24 .pdf', 'page': 16, 'total_pages': 101, 'MSIP_Label_2b83f8d7-e91f-4eee-a336-52a8061c0503_Enabled': 'true', 'MSIP_Label_2b83f8d7-e91f-4eee-a336-52a8061c0503_SetDate': '2022-02-24T21:20:38Z', 'MSIP_Label_2b83f8d7-e91f-4eee-a336-52a8061c0503_Method': 'Privileged', 'MSIP_Label_2b83f8d7-e91f-4eee-a336-52a8061c0503_Name': 'OFFICIAL', 'MSIP_Label_2b83f8d7-e91f-4eee-a336-52a8061c0503_SiteId': 'cd778b65-752d-454a-87cf-b9990fe58993', 'MSIP_Label_2b83f8d7-e91f-4eee-a336-52a8061c0503_ActionId': 'a41679f1-751c-43a0-a310-7842fbe5f727', 'MSIP_Label_2b83f8d7-e91f-4eee-a336-52a8061c0503_ContentBits': '0', 'Title': 'NDIS Pricing Arrangements and Price Limits 2023-24', 'Author': 'Rundle, Vincent', 'Creator': 'Microsoft® Word for Microsoft 365', 'CreationDate': \"D:20230615172130+10'00'\", 'ModDate': \"D:20230615172130+10'00'\", 'Producer': 'Microsoft® Word for Microsoft 365'}), 0.3887465000152588), (Document(page_content='General Claiming Rules\\nNight-Time Sleepover supports\\nThis support provides a participant with assistance with, or supervision of, personal tasks of daily\\nlife where overnight support is needed, but the caregiver can sleep when not required to provide\\nsupport. This support applies to any day of the week and on public holidays. This support item\\nincludes up to two hours of active supports provided to the participant for the duration of the period.\\nProviders may claim for the third or additional hour at Saturday rates on weekdays, or at applicable\\nrates on other days (Saturday, Sunday or Public Holidays).\\nNote, there is no night-time sleepover support item for nurses.\\nClaiming for Telehealth Services\\nTelehealth can be used to deliver direct supports where appropriate and with the agreement of the\\nparticipant.\\nProviders can only claim Telehealth Services where the following conditions are met:\\n• The delivery of the support by telehealth is appropriate; and', metadata={'source': '../../data/ndis/PB NDIS Pricing Arrangements and Price Limits 2023-24 .pdf', 'file_path': '../../data/ndis/PB NDIS Pricing Arrangements and Price Limits 2023-24 .pdf', 'page': 17, 'total_pages': 101, 'MSIP_Label_2b83f8d7-e91f-4eee-a336-52a8061c0503_Enabled': 'true', 'MSIP_Label_2b83f8d7-e91f-4eee-a336-52a8061c0503_SetDate': '2022-02-24T21:20:38Z', 'MSIP_Label_2b83f8d7-e91f-4eee-a336-52a8061c0503_Method': 'Privileged', 'MSIP_Label_2b83f8d7-e91f-4eee-a336-52a8061c0503_Name': 'OFFICIAL', 'MSIP_Label_2b83f8d7-e91f-4eee-a336-52a8061c0503_SiteId': 'cd778b65-752d-454a-87cf-b9990fe58993', 'MSIP_Label_2b83f8d7-e91f-4eee-a336-52a8061c0503_ActionId': 'a41679f1-751c-43a0-a310-7842fbe5f727', 'MSIP_Label_2b83f8d7-e91f-4eee-a336-52a8061c0503_ContentBits': '0', 'Title': 'NDIS Pricing Arrangements and Price Limits 2023-24', 'Author': 'Rundle, Vincent', 'Creator': 'Microsoft® Word for Microsoft 365', 'CreationDate': \"D:20230615172130+10'00'\", 'ModDate': \"D:20230615172130+10'00'\", 'Producer': 'Microsoft® Word for Microsoft 365'}), 0.39990970492362976)]\n",
      "Inputs: {'input_documents': [Document(page_content='Saturday\\nDelivery of Health Supports by an Enrolled Nurse - $152.61 $213.65 $228.92\\n01_603_0114_1_1 Hour\\nSunday\\nDelivery of Health Supports by an Enrolled Nurse - $172.44 $241.42 $258.66\\n01_604_0114_1_1 Hour\\nPublic Holiday\\nDelivery of Health Supports by a Registered Nurse $115.21 $161.29 $172.82\\n01_606_0114_1_1 Hour\\n- Weekday Daytime\\nDelivery of Health Supports by a Registered Nurse $127.10 $177.94 $190.65\\n01_607_0114_1_1 Hour\\n- Weekday Evening\\nDelivery of Health Supports by a Registered Nurse $129.46 $181.24 $194.19\\n01_611_0114_1_1 Hour\\n- Weekday Night\\nDelivery of Health Supports by a Registered Nurse $164.42 $230.19 $246.63\\n01_608_0114_1_1 Hour\\n- Saturday\\nDelivery of Health Supports by a Registered Nurse $189.02 $264.63 $283.53\\n01_609_0114_1_1 Hour\\n- Sunday\\nDelivery of Health Supports by a Registered Nurse $213.62 $299.07 $320.43\\n01_610_0114_1_1 Hour\\n- Public Holiday\\nDelivery of Health Supports by a Clinical Nurse - $133.27 $186.58 $199.91\\n01_612_0114_1_1 Hour\\nWeekday Daytime', metadata={'source': '../../data/ndis/PB NDIS Pricing Arrangements and Price Limits 2023-24 .pdf', 'file_path': '../../data/ndis/PB NDIS Pricing Arrangements and Price Limits 2023-24 .pdf', 'page': 52, 'total_pages': 101, 'MSIP_Label_2b83f8d7-e91f-4eee-a336-52a8061c0503_Enabled': 'true', 'MSIP_Label_2b83f8d7-e91f-4eee-a336-52a8061c0503_SetDate': '2022-02-24T21:20:38Z', 'MSIP_Label_2b83f8d7-e91f-4eee-a336-52a8061c0503_Method': 'Privileged', 'MSIP_Label_2b83f8d7-e91f-4eee-a336-52a8061c0503_Name': 'OFFICIAL', 'MSIP_Label_2b83f8d7-e91f-4eee-a336-52a8061c0503_SiteId': 'cd778b65-752d-454a-87cf-b9990fe58993', 'MSIP_Label_2b83f8d7-e91f-4eee-a336-52a8061c0503_ActionId': 'a41679f1-751c-43a0-a310-7842fbe5f727', 'MSIP_Label_2b83f8d7-e91f-4eee-a336-52a8061c0503_ContentBits': '0', 'Title': 'NDIS Pricing Arrangements and Price Limits 2023-24', 'Author': 'Rundle, Vincent', 'Creator': 'Microsoft® Word for Microsoft 365', 'CreationDate': \"D:20230615172130+10'00'\", 'ModDate': \"D:20230615172130+10'00'\", 'Producer': 'Microsoft® Word for Microsoft 365'}), Document(page_content='Saturday\\nDelivery of Health Supports by an Enrolled Nurse - $152.61 $213.65 $228.92\\n15_403_0114_1_3 Hour\\nSunday\\nDelivery of Health Supports by an Enrolled Nurse - $172.44 $241.42 $258.66\\n15_404_0114_1_3 Hour\\nPublic Holiday\\nDelivery of Health Supports by a Registered Nurse $115.21 $161.29 $172.82\\n15_406_0114_1_3 Hour\\n- Weekday Daytime\\nDelivery of Health Supports by a Registered Nurse $127.10 $177.94 $190.65\\n15_407_0114_1_3 Hour\\n- Weekday Evening\\nDelivery of Health Supports by a Registered Nurse $129.46 $181.24 $194.19\\n15_411_0114_1_3 Hour\\n- Weekday Night\\nDelivery of Health Supports by a Registered Nurse $164.42 $230.19 $246.63\\n15_408_0114_1_3 Hour\\n- Saturday\\nDelivery of Health Supports by a Registered Nurse $189.02 $264.63 $283.53\\n15_409_0114_1_3 Hour\\n- Sunday\\nDelivery of Health Supports by a Registered Nurse $213.62 $299.07 $320.43\\n15_410_0114_1_3 Hour\\n- Public Holiday\\nDelivery of Health Supports by a Clinical Nurse - $133.27 $186.58 $199.91\\n15_412_0114_1_3 Hour\\nWeekday Daytime', metadata={'source': '../../data/ndis/PB NDIS Pricing Arrangements and Price Limits 2023-24 .pdf', 'file_path': '../../data/ndis/PB NDIS Pricing Arrangements and Price Limits 2023-24 .pdf', 'page': 97, 'total_pages': 101, 'MSIP_Label_2b83f8d7-e91f-4eee-a336-52a8061c0503_Enabled': 'true', 'MSIP_Label_2b83f8d7-e91f-4eee-a336-52a8061c0503_SetDate': '2022-02-24T21:20:38Z', 'MSIP_Label_2b83f8d7-e91f-4eee-a336-52a8061c0503_Method': 'Privileged', 'MSIP_Label_2b83f8d7-e91f-4eee-a336-52a8061c0503_Name': 'OFFICIAL', 'MSIP_Label_2b83f8d7-e91f-4eee-a336-52a8061c0503_SiteId': 'cd778b65-752d-454a-87cf-b9990fe58993', 'MSIP_Label_2b83f8d7-e91f-4eee-a336-52a8061c0503_ActionId': 'a41679f1-751c-43a0-a310-7842fbe5f727', 'MSIP_Label_2b83f8d7-e91f-4eee-a336-52a8061c0503_ContentBits': '0', 'Title': 'NDIS Pricing Arrangements and Price Limits 2023-24', 'Author': 'Rundle, Vincent', 'Creator': 'Microsoft® Word for Microsoft 365', 'CreationDate': \"D:20230615172130+10'00'\", 'ModDate': \"D:20230615172130+10'00'\", 'Producer': 'Microsoft® Word for Microsoft 365'}), Document(page_content='Consultant - Weekday Evening\\nDelivery of Health Supports by a Clinical Nurse $177.13 $247.98 $265.70\\n15_423_0114_1_3 Hour\\nConsultant - Weekday Night\\nDelivery of Health Supports by a Clinical Nurse $225.03 $315.04 $337.55\\n15_420_0114_1_3 Hour\\nConsultant - Saturday\\nDelivery of Health Supports by a Clinical Nurse $258.73 $362.22 $388.10\\n15_421_0114_1_3 Hour\\nConsultant - Sunday\\nDelivery of Health Supports by a Clinical Nurse $292.43 $409.40 $438.65\\n15_422_0114_1_3 Hour\\nConsultant - Public Holiday\\nDelivery of Health Supports by a Nurse Practitioner $164.78 $230.69 $247.17\\n15_424_0114_1_3 Hour\\n- Weekday Daytime\\nNDIS Pricing Arrangements and Price Limits 2023-24 Version 1.0 (published 16/06/2023) Page 97 of 101', metadata={'source': '../../data/ndis/PB NDIS Pricing Arrangements and Price Limits 2023-24 .pdf', 'file_path': '../../data/ndis/PB NDIS Pricing Arrangements and Price Limits 2023-24 .pdf', 'page': 97, 'total_pages': 101, 'MSIP_Label_2b83f8d7-e91f-4eee-a336-52a8061c0503_Enabled': 'true', 'MSIP_Label_2b83f8d7-e91f-4eee-a336-52a8061c0503_SetDate': '2022-02-24T21:20:38Z', 'MSIP_Label_2b83f8d7-e91f-4eee-a336-52a8061c0503_Method': 'Privileged', 'MSIP_Label_2b83f8d7-e91f-4eee-a336-52a8061c0503_Name': 'OFFICIAL', 'MSIP_Label_2b83f8d7-e91f-4eee-a336-52a8061c0503_SiteId': 'cd778b65-752d-454a-87cf-b9990fe58993', 'MSIP_Label_2b83f8d7-e91f-4eee-a336-52a8061c0503_ActionId': 'a41679f1-751c-43a0-a310-7842fbe5f727', 'MSIP_Label_2b83f8d7-e91f-4eee-a336-52a8061c0503_ContentBits': '0', 'Title': 'NDIS Pricing Arrangements and Price Limits 2023-24', 'Author': 'Rundle, Vincent', 'Creator': 'Microsoft® Word for Microsoft 365', 'CreationDate': \"D:20230615172130+10'00'\", 'ModDate': \"D:20230615172130+10'00'\", 'Producer': 'Microsoft® Word for Microsoft 365'}), Document(page_content='Public Holiday, Saturday, Sunday or Night-time Sleepover Support).\\no For Nurses delivering Nursing Supports:\\n▪ A Weekday Daytime Support is any support to a participant that commences before\\n12.00 noon on a Weekday and finishes on the same day (unless it is a Public Holiday,\\nWeekday Evening, or Weekday Night Support).\\n▪ A Weekday Evening Support is any support to a participant that commences not\\nearlier than 12.00 noon on a Weekday and finishes after 6.00 pm on the same day\\n(unless it is a Public Holiday Support).\\n▪ A Weekday Night Support is any support to a participant that commences on or after\\n6.00 pm on a Weekday and finishes before 7.30 am on the following day (unless it is a\\nPublic Holiday Support).\\nIf a support to a participant does not meet one of the above criteria then it needs to be billed as two\\nor more separate supports. An exception to this general rule occurs when a particular support\\ncrosses a shift boundary and the same worker delivers the entire support. In this case, the higher', metadata={'source': '../../data/ndis/PB NDIS Pricing Arrangements and Price Limits 2023-24 .pdf', 'file_path': '../../data/ndis/PB NDIS Pricing Arrangements and Price Limits 2023-24 .pdf', 'page': 16, 'total_pages': 101, 'MSIP_Label_2b83f8d7-e91f-4eee-a336-52a8061c0503_Enabled': 'true', 'MSIP_Label_2b83f8d7-e91f-4eee-a336-52a8061c0503_SetDate': '2022-02-24T21:20:38Z', 'MSIP_Label_2b83f8d7-e91f-4eee-a336-52a8061c0503_Method': 'Privileged', 'MSIP_Label_2b83f8d7-e91f-4eee-a336-52a8061c0503_Name': 'OFFICIAL', 'MSIP_Label_2b83f8d7-e91f-4eee-a336-52a8061c0503_SiteId': 'cd778b65-752d-454a-87cf-b9990fe58993', 'MSIP_Label_2b83f8d7-e91f-4eee-a336-52a8061c0503_ActionId': 'a41679f1-751c-43a0-a310-7842fbe5f727', 'MSIP_Label_2b83f8d7-e91f-4eee-a336-52a8061c0503_ContentBits': '0', 'Title': 'NDIS Pricing Arrangements and Price Limits 2023-24', 'Author': 'Rundle, Vincent', 'Creator': 'Microsoft® Word for Microsoft 365', 'CreationDate': \"D:20230615172130+10'00'\", 'ModDate': \"D:20230615172130+10'00'\", 'Producer': 'Microsoft® Word for Microsoft 365'}), Document(page_content='General Claiming Rules\\nNight-Time Sleepover supports\\nThis support provides a participant with assistance with, or supervision of, personal tasks of daily\\nlife where overnight support is needed, but the caregiver can sleep when not required to provide\\nsupport. This support applies to any day of the week and on public holidays. This support item\\nincludes up to two hours of active supports provided to the participant for the duration of the period.\\nProviders may claim for the third or additional hour at Saturday rates on weekdays, or at applicable\\nrates on other days (Saturday, Sunday or Public Holidays).\\nNote, there is no night-time sleepover support item for nurses.\\nClaiming for Telehealth Services\\nTelehealth can be used to deliver direct supports where appropriate and with the agreement of the\\nparticipant.\\nProviders can only claim Telehealth Services where the following conditions are met:\\n• The delivery of the support by telehealth is appropriate; and', metadata={'source': '../../data/ndis/PB NDIS Pricing Arrangements and Price Limits 2023-24 .pdf', 'file_path': '../../data/ndis/PB NDIS Pricing Arrangements and Price Limits 2023-24 .pdf', 'page': 17, 'total_pages': 101, 'MSIP_Label_2b83f8d7-e91f-4eee-a336-52a8061c0503_Enabled': 'true', 'MSIP_Label_2b83f8d7-e91f-4eee-a336-52a8061c0503_SetDate': '2022-02-24T21:20:38Z', 'MSIP_Label_2b83f8d7-e91f-4eee-a336-52a8061c0503_Method': 'Privileged', 'MSIP_Label_2b83f8d7-e91f-4eee-a336-52a8061c0503_Name': 'OFFICIAL', 'MSIP_Label_2b83f8d7-e91f-4eee-a336-52a8061c0503_SiteId': 'cd778b65-752d-454a-87cf-b9990fe58993', 'MSIP_Label_2b83f8d7-e91f-4eee-a336-52a8061c0503_ActionId': 'a41679f1-751c-43a0-a310-7842fbe5f727', 'MSIP_Label_2b83f8d7-e91f-4eee-a336-52a8061c0503_ContentBits': '0', 'Title': 'NDIS Pricing Arrangements and Price Limits 2023-24', 'Author': 'Rundle, Vincent', 'Creator': 'Microsoft® Word for Microsoft 365', 'CreationDate': \"D:20230615172130+10'00'\", 'ModDate': \"D:20230615172130+10'00'\", 'Producer': 'Microsoft® Word for Microsoft 365'})], 'question': 'I am a registered nurse and I want to invoice for visiting a patient on saturday night, can you help?', 'chat_history': ''}\n",
      "Count Inputs: 3\n",
      "\n",
      "\n",
      "\u001b[1m> Entering new StuffDocumentsChain chain...\u001b[0m\n",
      "Inputs: {'question': 'I am a registered nurse and I want to invoice for visiting a patient on saturday night, can you help?', 'context': 'Saturday\\nDelivery of Health Supports by an Enrolled Nurse - $152.61 $213.65 $228.92\\n01_603_0114_1_1 Hour\\nSunday\\nDelivery of Health Supports by an Enrolled Nurse - $172.44 $241.42 $258.66\\n01_604_0114_1_1 Hour\\nPublic Holiday\\nDelivery of Health Supports by a Registered Nurse $115.21 $161.29 $172.82\\n01_606_0114_1_1 Hour\\n- Weekday Daytime\\nDelivery of Health Supports by a Registered Nurse $127.10 $177.94 $190.65\\n01_607_0114_1_1 Hour\\n- Weekday Evening\\nDelivery of Health Supports by a Registered Nurse $129.46 $181.24 $194.19\\n01_611_0114_1_1 Hour\\n- Weekday Night\\nDelivery of Health Supports by a Registered Nurse $164.42 $230.19 $246.63\\n01_608_0114_1_1 Hour\\n- Saturday\\nDelivery of Health Supports by a Registered Nurse $189.02 $264.63 $283.53\\n01_609_0114_1_1 Hour\\n- Sunday\\nDelivery of Health Supports by a Registered Nurse $213.62 $299.07 $320.43\\n01_610_0114_1_1 Hour\\n- Public Holiday\\nDelivery of Health Supports by a Clinical Nurse - $133.27 $186.58 $199.91\\n01_612_0114_1_1 Hour\\nWeekday Daytime\\n\\nSaturday\\nDelivery of Health Supports by an Enrolled Nurse - $152.61 $213.65 $228.92\\n15_403_0114_1_3 Hour\\nSunday\\nDelivery of Health Supports by an Enrolled Nurse - $172.44 $241.42 $258.66\\n15_404_0114_1_3 Hour\\nPublic Holiday\\nDelivery of Health Supports by a Registered Nurse $115.21 $161.29 $172.82\\n15_406_0114_1_3 Hour\\n- Weekday Daytime\\nDelivery of Health Supports by a Registered Nurse $127.10 $177.94 $190.65\\n15_407_0114_1_3 Hour\\n- Weekday Evening\\nDelivery of Health Supports by a Registered Nurse $129.46 $181.24 $194.19\\n15_411_0114_1_3 Hour\\n- Weekday Night\\nDelivery of Health Supports by a Registered Nurse $164.42 $230.19 $246.63\\n15_408_0114_1_3 Hour\\n- Saturday\\nDelivery of Health Supports by a Registered Nurse $189.02 $264.63 $283.53\\n15_409_0114_1_3 Hour\\n- Sunday\\nDelivery of Health Supports by a Registered Nurse $213.62 $299.07 $320.43\\n15_410_0114_1_3 Hour\\n- Public Holiday\\nDelivery of Health Supports by a Clinical Nurse - $133.27 $186.58 $199.91\\n15_412_0114_1_3 Hour\\nWeekday Daytime\\n\\nConsultant - Weekday Evening\\nDelivery of Health Supports by a Clinical Nurse $177.13 $247.98 $265.70\\n15_423_0114_1_3 Hour\\nConsultant - Weekday Night\\nDelivery of Health Supports by a Clinical Nurse $225.03 $315.04 $337.55\\n15_420_0114_1_3 Hour\\nConsultant - Saturday\\nDelivery of Health Supports by a Clinical Nurse $258.73 $362.22 $388.10\\n15_421_0114_1_3 Hour\\nConsultant - Sunday\\nDelivery of Health Supports by a Clinical Nurse $292.43 $409.40 $438.65\\n15_422_0114_1_3 Hour\\nConsultant - Public Holiday\\nDelivery of Health Supports by a Nurse Practitioner $164.78 $230.69 $247.17\\n15_424_0114_1_3 Hour\\n- Weekday Daytime\\nNDIS Pricing Arrangements and Price Limits 2023-24 Version 1.0 (published 16/06/2023) Page 97 of 101\\n\\nPublic Holiday, Saturday, Sunday or Night-time Sleepover Support).\\no For Nurses delivering Nursing Supports:\\n▪ A Weekday Daytime Support is any support to a participant that commences before\\n12.00 noon on a Weekday and finishes on the same day (unless it is a Public Holiday,\\nWeekday Evening, or Weekday Night Support).\\n▪ A Weekday Evening Support is any support to a participant that commences not\\nearlier than 12.00 noon on a Weekday and finishes after 6.00 pm on the same day\\n(unless it is a Public Holiday Support).\\n▪ A Weekday Night Support is any support to a participant that commences on or after\\n6.00 pm on a Weekday and finishes before 7.30 am on the following day (unless it is a\\nPublic Holiday Support).\\nIf a support to a participant does not meet one of the above criteria then it needs to be billed as two\\nor more separate supports. An exception to this general rule occurs when a particular support\\ncrosses a shift boundary and the same worker delivers the entire support. In this case, the higher\\n\\nGeneral Claiming Rules\\nNight-Time Sleepover supports\\nThis support provides a participant with assistance with, or supervision of, personal tasks of daily\\nlife where overnight support is needed, but the caregiver can sleep when not required to provide\\nsupport. This support applies to any day of the week and on public holidays. This support item\\nincludes up to two hours of active supports provided to the participant for the duration of the period.\\nProviders may claim for the third or additional hour at Saturday rates on weekdays, or at applicable\\nrates on other days (Saturday, Sunday or Public Holidays).\\nNote, there is no night-time sleepover support item for nurses.\\nClaiming for Telehealth Services\\nTelehealth can be used to deliver direct supports where appropriate and with the agreement of the\\nparticipant.\\nProviders can only claim Telehealth Services where the following conditions are met:\\n• The delivery of the support by telehealth is appropriate; and'}\n",
      "Count Inputs: 2\n",
      "\n",
      "\n",
      "\u001b[1m> Entering new LLMChain chain...\u001b[0m\n",
      "Prompt after formatting:\n",
      "\u001b[32;1m\u001b[1;3m\n",
      "You are a helpful, polite and well-mannered bot, that answer questions from providers on how to invoice their services to the NDIS. \n",
      "You are provided with a context that contains relevant extract from the NDIS documentation.\n",
      "Upon receiving the user question and context, your aim is to:\n",
      "    - select for them the approriate item code from the price guide\n",
      "    - determine the maximum price they can charge for the good or service according to their location\n",
      "    - more generally, by advising them following recommendations set up in the price guide for that particular service if any\n",
      "    \n",
      "When replying, you will follow ALL of the rules below:\n",
      "\n",
      "1/ If some information is missing to determine what item code to use, please ask that information to the user\n",
      "2/ If there is more than one item code matching the given criteria, determine what makes the difference between one item code and another and ask that question to the user\n",
      "3/ If you otherwise don't have enough information to answer the user query, don't invent anything and say you don't know. Do NOT try to make up an answer.\n",
      "Use as much detail as possible when responding.\n",
      "\n",
      "context: Saturday\n",
      "Delivery of Health Supports by an Enrolled Nurse - $152.61 $213.65 $228.92\n",
      "01_603_0114_1_1 Hour\n",
      "Sunday\n",
      "Delivery of Health Supports by an Enrolled Nurse - $172.44 $241.42 $258.66\n",
      "01_604_0114_1_1 Hour\n",
      "Public Holiday\n",
      "Delivery of Health Supports by a Registered Nurse $115.21 $161.29 $172.82\n",
      "01_606_0114_1_1 Hour\n",
      "- Weekday Daytime\n",
      "Delivery of Health Supports by a Registered Nurse $127.10 $177.94 $190.65\n",
      "01_607_0114_1_1 Hour\n",
      "- Weekday Evening\n",
      "Delivery of Health Supports by a Registered Nurse $129.46 $181.24 $194.19\n",
      "01_611_0114_1_1 Hour\n",
      "- Weekday Night\n",
      "Delivery of Health Supports by a Registered Nurse $164.42 $230.19 $246.63\n",
      "01_608_0114_1_1 Hour\n",
      "- Saturday\n",
      "Delivery of Health Supports by a Registered Nurse $189.02 $264.63 $283.53\n",
      "01_609_0114_1_1 Hour\n",
      "- Sunday\n",
      "Delivery of Health Supports by a Registered Nurse $213.62 $299.07 $320.43\n",
      "01_610_0114_1_1 Hour\n",
      "- Public Holiday\n",
      "Delivery of Health Supports by a Clinical Nurse - $133.27 $186.58 $199.91\n",
      "01_612_0114_1_1 Hour\n",
      "Weekday Daytime\n",
      "\n",
      "Saturday\n",
      "Delivery of Health Supports by an Enrolled Nurse - $152.61 $213.65 $228.92\n",
      "15_403_0114_1_3 Hour\n",
      "Sunday\n",
      "Delivery of Health Supports by an Enrolled Nurse - $172.44 $241.42 $258.66\n",
      "15_404_0114_1_3 Hour\n",
      "Public Holiday\n",
      "Delivery of Health Supports by a Registered Nurse $115.21 $161.29 $172.82\n",
      "15_406_0114_1_3 Hour\n",
      "- Weekday Daytime\n",
      "Delivery of Health Supports by a Registered Nurse $127.10 $177.94 $190.65\n",
      "15_407_0114_1_3 Hour\n",
      "- Weekday Evening\n",
      "Delivery of Health Supports by a Registered Nurse $129.46 $181.24 $194.19\n",
      "15_411_0114_1_3 Hour\n",
      "- Weekday Night\n",
      "Delivery of Health Supports by a Registered Nurse $164.42 $230.19 $246.63\n",
      "15_408_0114_1_3 Hour\n",
      "- Saturday\n",
      "Delivery of Health Supports by a Registered Nurse $189.02 $264.63 $283.53\n",
      "15_409_0114_1_3 Hour\n",
      "- Sunday\n",
      "Delivery of Health Supports by a Registered Nurse $213.62 $299.07 $320.43\n",
      "15_410_0114_1_3 Hour\n",
      "- Public Holiday\n",
      "Delivery of Health Supports by a Clinical Nurse - $133.27 $186.58 $199.91\n",
      "15_412_0114_1_3 Hour\n",
      "Weekday Daytime\n",
      "\n",
      "Consultant - Weekday Evening\n",
      "Delivery of Health Supports by a Clinical Nurse $177.13 $247.98 $265.70\n",
      "15_423_0114_1_3 Hour\n",
      "Consultant - Weekday Night\n",
      "Delivery of Health Supports by a Clinical Nurse $225.03 $315.04 $337.55\n",
      "15_420_0114_1_3 Hour\n",
      "Consultant - Saturday\n",
      "Delivery of Health Supports by a Clinical Nurse $258.73 $362.22 $388.10\n",
      "15_421_0114_1_3 Hour\n",
      "Consultant - Sunday\n",
      "Delivery of Health Supports by a Clinical Nurse $292.43 $409.40 $438.65\n",
      "15_422_0114_1_3 Hour\n",
      "Consultant - Public Holiday\n",
      "Delivery of Health Supports by a Nurse Practitioner $164.78 $230.69 $247.17\n",
      "15_424_0114_1_3 Hour\n",
      "- Weekday Daytime\n",
      "NDIS Pricing Arrangements and Price Limits 2023-24 Version 1.0 (published 16/06/2023) Page 97 of 101\n",
      "\n",
      "Public Holiday, Saturday, Sunday or Night-time Sleepover Support).\n",
      "o For Nurses delivering Nursing Supports:\n",
      "▪ A Weekday Daytime Support is any support to a participant that commences before\n",
      "12.00 noon on a Weekday and finishes on the same day (unless it is a Public Holiday,\n",
      "Weekday Evening, or Weekday Night Support).\n",
      "▪ A Weekday Evening Support is any support to a participant that commences not\n",
      "earlier than 12.00 noon on a Weekday and finishes after 6.00 pm on the same day\n",
      "(unless it is a Public Holiday Support).\n",
      "▪ A Weekday Night Support is any support to a participant that commences on or after\n",
      "6.00 pm on a Weekday and finishes before 7.30 am on the following day (unless it is a\n",
      "Public Holiday Support).\n",
      "If a support to a participant does not meet one of the above criteria then it needs to be billed as two\n",
      "or more separate supports. An exception to this general rule occurs when a particular support\n",
      "crosses a shift boundary and the same worker delivers the entire support. In this case, the higher\n",
      "\n",
      "General Claiming Rules\n",
      "Night-Time Sleepover supports\n",
      "This support provides a participant with assistance with, or supervision of, personal tasks of daily\n",
      "life where overnight support is needed, but the caregiver can sleep when not required to provide\n",
      "support. This support applies to any day of the week and on public holidays. This support item\n",
      "includes up to two hours of active supports provided to the participant for the duration of the period.\n",
      "Providers may claim for the third or additional hour at Saturday rates on weekdays, or at applicable\n",
      "rates on other days (Saturday, Sunday or Public Holidays).\n",
      "Note, there is no night-time sleepover support item for nurses.\n",
      "Claiming for Telehealth Services\n",
      "Telehealth can be used to deliver direct supports where appropriate and with the agreement of the\n",
      "participant.\n",
      "Providers can only claim Telehealth Services where the following conditions are met:\n",
      "• The delivery of the support by telehealth is appropriate; and\n",
      "=========\n",
      "question: I am a registered nurse and I want to invoice for visiting a patient on saturday night, can you help?\n",
      "======\n",
      "        \u001b[0m\n",
      "\n",
      "\u001b[1m> Finished chain.\u001b[0m\n",
      "\n",
      "\u001b[1m> Finished chain.\u001b[0m\n"
     ]
    },
    {
     "data": {
      "text/plain": [
       "'Sure, I can assist you with that. As a Registered Nurse providing health supports on a Saturday night, you have two item codes to choose from based on the NDIS price guide:\\n\\n1. Item code 01_609_0114_1_1 with a maximum price of $189.02, $264.63, or $283.53 depending on the location.\\n2. Item code 15_409_0114_1_3 with a maximum price of $189.02, $264.63, or $283.53 depending on the location.\\n\\nThe difference between these two item codes is not specified in the provided context. You may need to refer to the full NDIS price guide or contact the NDIS for clarification on which item code is most appropriate for your service.'"
      ]
     },
     "execution_count": 8,
     "metadata": {},
     "output_type": "execute_result"
    }
   ],
   "source": [
    "chatbot.conversational_chat('I am a registered nurse and I want to invoice for visiting a patient on saturday night, can you help?')"
   ]
  },
  {
   "cell_type": "code",
   "execution_count": 7,
   "metadata": {},
   "outputs": [
    {
     "name": "stdout",
     "output_type": "stream",
     "text": [
      "Chroma collection name: NDIS_ALL_PDFPLUMBER_TEXTS_1024_128\n"
     ]
    }
   ],
   "source": [
    "from modules.retriever import ChromaRetriever\n",
    "blob = ChromaRetriever().fromExistingCollection(collection_name = 'NDIS_ALL_PDFPLUMBER_TEXTS_1024_128')"
   ]
  },
  {
   "cell_type": "code",
   "execution_count": 11,
   "metadata": {},
   "outputs": [],
   "source": [
    "from langchain.vectorstores import Chroma\n",
    "from langchain.embeddings import OpenAIEmbeddings\n",
    "from chromadb.config import Settings\n",
    "from chromadb import Client\n",
    "from chromadb.api import API\n",
    "\n",
    "localhost_client_settings = Settings(\n",
    "    chroma_api_impl=\"rest\",\n",
    "    chroma_server_host=\"host.docker.internal\",  # when you run this inside a devcontainer you need to explicitely say host.docker.internal to signify \"devcontainer host localhost\"\n",
    "    chroma_server_http_port=\"8000\"\n",
    ")\n",
    "\n",
    "client_settings: Settings = localhost_client_settings\n",
    "client = Client(client_settings)"
   ]
  },
  {
   "cell_type": "code",
   "execution_count": 12,
   "metadata": {},
   "outputs": [],
   "source": [
    "\n",
    "from chromadb.config import Settings\n",
    "from chromadb import Client\n",
    "from chromadb.api import API\n",
    "\n",
    "class ChromaRetriever:\n",
    "    COLLECTION_NAME = 'NDIS_ALL_PDFPLUMBER_TEXTS_1024_128'\n",
    "    \n",
    "    def __init__(self,  client_settings=None):\n",
    "\n",
    "        localhost_client_settings = Settings(\n",
    "            chroma_api_impl=\"rest\",\n",
    "            chroma_server_host=\"host.docker.internal\",  # when you run this inside a devcontainer you need to explicitely say host.docker.internal to signify \"devcontainer host localhost\"\n",
    "            chroma_server_http_port=\"8000\"\n",
    "        )\n",
    "\n",
    "        client_settings: Settings = localhost_client_settings\n",
    "        client = Client(client_settings)\n",
    "\n",
    "blob = ChromaRetriever()"
   ]
  }
 ],
 "metadata": {
  "kernelspec": {
   "display_name": ".venv",
   "language": "python",
   "name": "python3"
  },
  "language_info": {
   "codemirror_mode": {
    "name": "ipython",
    "version": 3
   },
   "file_extension": ".py",
   "mimetype": "text/x-python",
   "name": "python",
   "nbconvert_exporter": "python",
   "pygments_lexer": "ipython3",
   "version": "3.11.4"
  },
  "orig_nbformat": 4
 },
 "nbformat": 4,
 "nbformat_minor": 2
}
